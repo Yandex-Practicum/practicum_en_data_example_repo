{
 "cells": [
  {
   "cell_type": "markdown",
   "metadata": {},
   "source": [
    "# Step 1. Open the data file and have a look at the general information"
   ]
  },
  {
   "cell_type": "code",
   "execution_count": 135,
   "metadata": {},
   "outputs": [],
   "source": [
    "# import libraries\n",
    "import pandas as pd\n",
    "import matplotlib.pyplot as plt"
   ]
  },
  {
   "cell_type": "code",
   "execution_count": 136,
   "metadata": {},
   "outputs": [],
   "source": [
    "# read all input data\n",
    "data_real_estate = pd.read_csv(\"real_estate_data_us.csv\", sep='\\t')"
   ]
  },
  {
   "cell_type": "code",
   "execution_count": 137,
   "metadata": {
    "scrolled": true
   },
   "outputs": [
    {
     "name": "stdout",
     "output_type": "stream",
     "text": [
      "<class 'pandas.core.frame.DataFrame'>\n",
      "RangeIndex: 23699 entries, 0 to 23698\n",
      "Data columns (total 22 columns):\n",
      " #   Column             Non-Null Count  Dtype  \n",
      "---  ------             --------------  -----  \n",
      " 0   date_posted        23699 non-null  object \n",
      " 1   days_listed        20518 non-null  float64\n",
      " 2   last_price         23699 non-null  float64\n",
      " 3   bedrooms           23699 non-null  int64  \n",
      " 4   kitchen_area       21421 non-null  float64\n",
      " 5   living_area        21796 non-null  float64\n",
      " 6   total_area         23699 non-null  float64\n",
      " 7   balconies          12180 non-null  float64\n",
      " 8   ceiling_height     14504 non-null  float64\n",
      " 9   floors_total       23613 non-null  float64\n",
      " 10  floor              23699 non-null  int64  \n",
      " 11  total_images       23699 non-null  int64  \n",
      " 12  bike_parking       2775 non-null   object \n",
      " 13  is_studio          23699 non-null  bool   \n",
      " 14  is_open_plan       23699 non-null  bool   \n",
      " 15  locality_name      23650 non-null  object \n",
      " 16  airport_dist       18157 non-null  float64\n",
      " 17  city_center_dist   18180 non-null  float64\n",
      " 18  park_dist          8079 non-null   float64\n",
      " 19  parks_within_3000  18181 non-null  float64\n",
      " 20  pond_dist          9110 non-null   float64\n",
      " 21  ponds_within_3000  18181 non-null  float64\n",
      "dtypes: bool(2), float64(14), int64(3), object(3)\n",
      "memory usage: 3.7+ MB\n"
     ]
    }
   ],
   "source": [
    "# brief information about input data\n",
    "data_real_estate.info()"
   ]
  },
  {
   "cell_type": "code",
   "execution_count": 138,
   "metadata": {},
   "outputs": [
    {
     "data": {
      "text/html": [
       "<div>\n",
       "<style scoped>\n",
       "    .dataframe tbody tr th:only-of-type {\n",
       "        vertical-align: middle;\n",
       "    }\n",
       "\n",
       "    .dataframe tbody tr th {\n",
       "        vertical-align: top;\n",
       "    }\n",
       "\n",
       "    .dataframe thead th {\n",
       "        text-align: right;\n",
       "    }\n",
       "</style>\n",
       "<table border=\"1\" class=\"dataframe\">\n",
       "  <thead>\n",
       "    <tr style=\"text-align: right;\">\n",
       "      <th></th>\n",
       "      <th>date_posted</th>\n",
       "      <th>days_listed</th>\n",
       "      <th>last_price</th>\n",
       "      <th>bedrooms</th>\n",
       "      <th>kitchen_area</th>\n",
       "      <th>living_area</th>\n",
       "      <th>total_area</th>\n",
       "      <th>balconies</th>\n",
       "      <th>ceiling_height</th>\n",
       "      <th>floors_total</th>\n",
       "      <th>...</th>\n",
       "      <th>bike_parking</th>\n",
       "      <th>is_studio</th>\n",
       "      <th>is_open_plan</th>\n",
       "      <th>locality_name</th>\n",
       "      <th>airport_dist</th>\n",
       "      <th>city_center_dist</th>\n",
       "      <th>park_dist</th>\n",
       "      <th>parks_within_3000</th>\n",
       "      <th>pond_dist</th>\n",
       "      <th>ponds_within_3000</th>\n",
       "    </tr>\n",
       "  </thead>\n",
       "  <tbody>\n",
       "    <tr>\n",
       "      <th>0</th>\n",
       "      <td>2019-03-07T00:00:00</td>\n",
       "      <td>NaN</td>\n",
       "      <td>260000.0</td>\n",
       "      <td>3</td>\n",
       "      <td>25.0</td>\n",
       "      <td>51.0</td>\n",
       "      <td>108.0</td>\n",
       "      <td>NaN</td>\n",
       "      <td>2.70</td>\n",
       "      <td>16.0</td>\n",
       "      <td>...</td>\n",
       "      <td>NaN</td>\n",
       "      <td>False</td>\n",
       "      <td>False</td>\n",
       "      <td>Saint Petersburg</td>\n",
       "      <td>18863.0</td>\n",
       "      <td>16028.0</td>\n",
       "      <td>482.0</td>\n",
       "      <td>1.0</td>\n",
       "      <td>755.0</td>\n",
       "      <td>2.0</td>\n",
       "    </tr>\n",
       "    <tr>\n",
       "      <th>1</th>\n",
       "      <td>2018-12-04T00:00:00</td>\n",
       "      <td>81.0</td>\n",
       "      <td>67000.0</td>\n",
       "      <td>1</td>\n",
       "      <td>11.0</td>\n",
       "      <td>18.6</td>\n",
       "      <td>40.4</td>\n",
       "      <td>2.0</td>\n",
       "      <td>NaN</td>\n",
       "      <td>11.0</td>\n",
       "      <td>...</td>\n",
       "      <td>NaN</td>\n",
       "      <td>False</td>\n",
       "      <td>False</td>\n",
       "      <td>Shushary village</td>\n",
       "      <td>12817.0</td>\n",
       "      <td>18603.0</td>\n",
       "      <td>NaN</td>\n",
       "      <td>0.0</td>\n",
       "      <td>NaN</td>\n",
       "      <td>0.0</td>\n",
       "    </tr>\n",
       "    <tr>\n",
       "      <th>2</th>\n",
       "      <td>2015-08-20T00:00:00</td>\n",
       "      <td>558.0</td>\n",
       "      <td>103920.0</td>\n",
       "      <td>2</td>\n",
       "      <td>8.3</td>\n",
       "      <td>34.3</td>\n",
       "      <td>56.0</td>\n",
       "      <td>0.0</td>\n",
       "      <td>NaN</td>\n",
       "      <td>5.0</td>\n",
       "      <td>...</td>\n",
       "      <td>NaN</td>\n",
       "      <td>False</td>\n",
       "      <td>False</td>\n",
       "      <td>Saint Petersburg</td>\n",
       "      <td>21741.0</td>\n",
       "      <td>13933.0</td>\n",
       "      <td>90.0</td>\n",
       "      <td>1.0</td>\n",
       "      <td>574.0</td>\n",
       "      <td>2.0</td>\n",
       "    </tr>\n",
       "    <tr>\n",
       "      <th>3</th>\n",
       "      <td>2015-07-24T00:00:00</td>\n",
       "      <td>424.0</td>\n",
       "      <td>1298000.0</td>\n",
       "      <td>3</td>\n",
       "      <td>NaN</td>\n",
       "      <td>NaN</td>\n",
       "      <td>159.0</td>\n",
       "      <td>0.0</td>\n",
       "      <td>NaN</td>\n",
       "      <td>14.0</td>\n",
       "      <td>...</td>\n",
       "      <td>NaN</td>\n",
       "      <td>False</td>\n",
       "      <td>False</td>\n",
       "      <td>Saint Petersburg</td>\n",
       "      <td>28098.0</td>\n",
       "      <td>6800.0</td>\n",
       "      <td>84.0</td>\n",
       "      <td>2.0</td>\n",
       "      <td>234.0</td>\n",
       "      <td>3.0</td>\n",
       "    </tr>\n",
       "    <tr>\n",
       "      <th>4</th>\n",
       "      <td>2018-06-19T00:00:00</td>\n",
       "      <td>121.0</td>\n",
       "      <td>200000.0</td>\n",
       "      <td>2</td>\n",
       "      <td>41.0</td>\n",
       "      <td>32.0</td>\n",
       "      <td>100.0</td>\n",
       "      <td>NaN</td>\n",
       "      <td>3.03</td>\n",
       "      <td>14.0</td>\n",
       "      <td>...</td>\n",
       "      <td>NaN</td>\n",
       "      <td>False</td>\n",
       "      <td>False</td>\n",
       "      <td>Saint Petersburg</td>\n",
       "      <td>31856.0</td>\n",
       "      <td>8098.0</td>\n",
       "      <td>112.0</td>\n",
       "      <td>2.0</td>\n",
       "      <td>48.0</td>\n",
       "      <td>1.0</td>\n",
       "    </tr>\n",
       "  </tbody>\n",
       "</table>\n",
       "<p>5 rows × 22 columns</p>\n",
       "</div>"
      ],
      "text/plain": [
       "           date_posted  days_listed  last_price  bedrooms  kitchen_area  \\\n",
       "0  2019-03-07T00:00:00          NaN    260000.0         3          25.0   \n",
       "1  2018-12-04T00:00:00         81.0     67000.0         1          11.0   \n",
       "2  2015-08-20T00:00:00        558.0    103920.0         2           8.3   \n",
       "3  2015-07-24T00:00:00        424.0   1298000.0         3           NaN   \n",
       "4  2018-06-19T00:00:00        121.0    200000.0         2          41.0   \n",
       "\n",
       "   living_area  total_area  balconies  ceiling_height  floors_total  ...  \\\n",
       "0         51.0       108.0        NaN            2.70          16.0  ...   \n",
       "1         18.6        40.4        2.0             NaN          11.0  ...   \n",
       "2         34.3        56.0        0.0             NaN           5.0  ...   \n",
       "3          NaN       159.0        0.0             NaN          14.0  ...   \n",
       "4         32.0       100.0        NaN            3.03          14.0  ...   \n",
       "\n",
       "   bike_parking  is_studio is_open_plan     locality_name  airport_dist  \\\n",
       "0           NaN      False        False  Saint Petersburg       18863.0   \n",
       "1           NaN      False        False  Shushary village       12817.0   \n",
       "2           NaN      False        False  Saint Petersburg       21741.0   \n",
       "3           NaN      False        False  Saint Petersburg       28098.0   \n",
       "4           NaN      False        False  Saint Petersburg       31856.0   \n",
       "\n",
       "  city_center_dist  park_dist  parks_within_3000  pond_dist  ponds_within_3000  \n",
       "0          16028.0      482.0                1.0      755.0                2.0  \n",
       "1          18603.0        NaN                0.0        NaN                0.0  \n",
       "2          13933.0       90.0                1.0      574.0                2.0  \n",
       "3           6800.0       84.0                2.0      234.0                3.0  \n",
       "4           8098.0      112.0                2.0       48.0                1.0  \n",
       "\n",
       "[5 rows x 22 columns]"
      ]
     },
     "execution_count": 138,
     "metadata": {},
     "output_type": "execute_result"
    }
   ],
   "source": [
    "data_real_estate.head()"
   ]
  },
  {
   "cell_type": "markdown",
   "metadata": {},
   "source": [
    "# Mini-Conclusion\n",
    "There are 23699 rows and 22 columns. Some general points without close inspection:\n",
    "1. *date_posted* is string not date **need to do something**.\n",
    "2. *days_listed* is float not integer **easy to change**. 20518 rows < 23699 **need to do something**.\n",
    "3. *last_price* OK\n",
    "4. *bedrooms* OK\n",
    "5. *kitchen_area* 21421 rows < 23699 **need to do something**\n",
    "6. *living_area* 21796 rows < 23699 **need to do something**\n",
    "7. *total_area* OK. **question** why total area is given for all data as opposed to kitchen and living area\n",
    "8. *balconies* 12180 < 23699 **need to do something**\n",
    "9. *ceiling_height* 14504 < 23699 **need to do something**\n",
    "10. *floors_total* is float not integer **easy to change**. 23613 < 23699 **need to do something**\n",
    "11. *floor* OK\n",
    "12. *total_images* OK\n",
    "13. *bike_parking* 2775 << 23699 **need to do something**\n",
    "14. *is_studio* OK  \n",
    "15. *is_open_plan* OK   \n",
    "16. *locality_name* 23650 < 23699 **need to do something**\n",
    "17. *airport_dist* 18157 < 23699 **need to do something**\n",
    "18. *city_center_dist* 18180 < 23699 **need to do something**\n",
    "19. *park_dist* 8079 < 23699 **need to do something**\n",
    "20. *parks_within_3000* is float not integer **easy to change**. 18181 < 23699 **need to do something**\n",
    "21. *pond_dist* 9110 < 23699 **need to do something**\n",
    "22. *ponds_within_3000*  is float not integer **easy to change**. 18181 < 23699 **need to do something**\n"
   ]
  },
  {
   "cell_type": "markdown",
   "metadata": {},
   "source": [
    "<div class=\"alert alert-block alert-success\">\n",
    "Sounds right\n",
    "</div>"
   ]
  },
  {
   "cell_type": "markdown",
   "metadata": {},
   "source": [
    "# Step 2. Data preprocessing"
   ]
  },
  {
   "cell_type": "markdown",
   "metadata": {},
   "source": [
    "* Identify and study the missing values:\n",
    "    * For some missing values, the replacement is obvious. For\n",
    "example, if the user doesn’t enter the number of balconies, then there\n",
    "probably aren’t any. The correct course of action here is to replace\n",
    "these missing values with 0. There’s no suitable replacement value for\n",
    "other data types. In this case, leave these values blank. A missing value\n",
    "is also a key indicator that mustn’t be hidden.\n",
    "    * Fill in the missing values where appropriate. Explain why you’ve chosen\n",
    "to fill the missing values in these particular columns and how you\n",
    "selected the values.\n",
    "    * Describe the factors that may have led up to the missing values.\n",
    "* Convert the data to the required types:\n",
    "    * Indicate the columns where the data types have to be changed and\n",
    "explain why."
   ]
  },
  {
   "cell_type": "markdown",
   "metadata": {},
   "source": [
    "### 1. *date_posted* \n",
    "1. *date_posted* presents a date; so I'll convert strings to datetime64[ns] <br>\n",
    "2. There are no missing values"
   ]
  },
  {
   "cell_type": "code",
   "execution_count": 139,
   "metadata": {},
   "outputs": [],
   "source": [
    "data_real_estate['date_posted'] = pd.to_datetime(data_real_estate['date_posted'], format='%Y-%m-%dT%H:%M:%S')"
   ]
  },
  {
   "cell_type": "markdown",
   "metadata": {},
   "source": [
    "### 2. *days_listed*\n",
    "1. *days_listed* presents the number of days; it is countable (natural numbers), so it is better to use integer_type\n",
    "2. (comment) but there are None-values; I can't directly convert this column to int using df.astype(); I tried, really, it doesn't work :)\n",
    "3. (comment) I can't use try:_except:_ and change type of each row with int(); because it doesn't change type of data in column; I tried :)\n",
    "4. I see two solutions:\n",
    "        a. Use fillna() with, for instance, 0-value; zeros aren't used here, so it would be unique; then apply astype('int').\n",
    "        b. convert None-values to np.nan; then use astype('int').\n",
    "I choose 4a."
   ]
  },
  {
   "cell_type": "code",
   "execution_count": 140,
   "metadata": {},
   "outputs": [
    {
     "name": "stdout",
     "output_type": "stream",
     "text": [
      "Number of zeros is 3181\n"
     ]
    }
   ],
   "source": [
    "data_real_estate['days_listed'].fillna(value=0, inplace=True)\n",
    "print('Number of zeros is {:}'.format(data_real_estate[data_real_estate['days_listed'] == 0]['days_listed'].count()))"
   ]
  },
  {
   "cell_type": "code",
   "execution_count": 141,
   "metadata": {},
   "outputs": [],
   "source": [
    "# convert to integer\n",
    "data_real_estate['days_listed'] = data_real_estate['days_listed'].astype('int')"
   ]
  },
  {
   "cell_type": "markdown",
   "metadata": {},
   "source": [
    "### 3. *kitchen_area*, *living_area*\n"
   ]
  },
  {
   "cell_type": "markdown",
   "metadata": {},
   "source": [
    "There are few empty cells in these columns. <br>\n",
    "I could replace None-values with a group median divided by *total_area*. Why *total_area*? Apparently there should be a strong correlation between *total_area* and *kitchen_area*, *living_area*. The larger the area of a room, the larger the total area the apartment. <br>"
   ]
  },
  {
   "cell_type": "code",
   "execution_count": 142,
   "metadata": {},
   "outputs": [
    {
     "data": {
      "text/plain": [
       "Text(0, 0.5, 'total_area')"
      ]
     },
     "execution_count": 142,
     "metadata": {},
     "output_type": "execute_result"
    },
    {
     "data": {
      "image/png": "[encoded data removed]",
      "text/plain": [
       "<Figure size 432x288 with 1 Axes>"
      ]
     },
     "metadata": {
      "needs_background": "light"
     },
     "output_type": "display_data"
    },
    {
     "data": {
      "image/png": "[encoded data removed]",
      "text/plain": [
       "<Figure size 432x288 with 1 Axes>"
      ]
     },
     "metadata": {
      "needs_background": "light"
     },
     "output_type": "display_data"
    }
   ],
   "source": [
    "# let's see whether there is a strong correlation\n",
    "plt.figure()\n",
    "x = data_real_estate.living_area\n",
    "y = data_real_estate.total_area\n",
    "plt.plot(x,y,'.')\n",
    "plt.xlabel('living_area')\n",
    "plt.ylabel('total_area')\n",
    "\n",
    "\n",
    "plt.figure()\n",
    "x = data_real_estate.kitchen_area\n",
    "y = data_real_estate.total_area\n",
    "plt.plot(x,y,'.')\n",
    "plt.xlabel('kitchen_area')\n",
    "plt.ylabel('total_area')"
   ]
  },
  {
   "cell_type": "markdown",
   "metadata": {},
   "source": [
    "We can see that figure *total_area* from *living_area* is not so scattered. It is narrower than function from *living_area*. <br>\n",
    "I think the best way is to find a linear function which gives the best approximation. Thus we can find a good tool to make up for the none-values for kitchens and living rooms. But we haven't study this so far. So I'll create groups for *living_area* and find the median in each group."
   ]
  },
  {
   "cell_type": "code",
   "execution_count": 143,
   "metadata": {},
   "outputs": [],
   "source": [
    "# determine a function to use apply() later to create a new area category\n",
    "def fun_area_category(row):\n",
    "    area = row.total_area\n",
    "    step = (max_total_area - 0.) / num_area_category\n",
    "    for k in range(num_area_category):\n",
    "        if k*step<= area < (k+1)*step:\n",
    "            return 'area_' + str(k)\n",
    "    return 'area_' + str(num_area_category)"
   ]
  },
  {
   "cell_type": "code",
   "execution_count": 144,
   "metadata": {},
   "outputs": [],
   "source": [
    "# create a new area_category describing total_area\n",
    "num_area_category = 20\n",
    "max_total_area = max(data_real_estate['total_area'])\n",
    "data_real_estate['area_category'] = data_real_estate.apply(fun_area_category, axis=1)"
   ]
  },
  {
   "cell_type": "markdown",
   "metadata": {},
   "source": [
    "We can see that this approach is disadvantageous. The data is really scattered, so we didn't have a detailed solution in the beginning close to zero. I can (a) increase number of area categories or (b) move away from zero. But I think the solution is good enough. <br>\n",
    "Another thing is that I used two global parameters num_area_category and max_total_area in function. I don't understand is it OK? or I should find a way to avoid using them."
   ]
  },
  {
   "cell_type": "code",
   "execution_count": 145,
   "metadata": {},
   "outputs": [],
   "source": [
    "# save median values for each group for living area\n",
    "living_area_category_median = data_real_estate.groupby('area_category')['living_area'].median().sort_values()\n",
    "\n",
    "# define function to use apply() later to update area of living room\n",
    "def area_living_update(row):\n",
    "    area = row['living_area']\n",
    "    area_category = row['area_category']\n",
    "    \n",
    "    if not(pd.isnull(area)):\n",
    "        return area\n",
    "    else:\n",
    "        for k in range(num_area_category):\n",
    "            if area_category == living_area_category_median.index[k]:\n",
    "                return living_area_category_median[k]\n",
    "\n",
    "# update column if living area\n",
    "data_real_estate['living_area'] = data_real_estate.apply(area_living_update, axis=1)"
   ]
  },
  {
   "cell_type": "code",
   "execution_count": 146,
   "metadata": {},
   "outputs": [],
   "source": [
    "# save median values for each group for kitchen area\n",
    "kitchen_area_category_median = data_real_estate.groupby('area_category')['kitchen_area'].median().sort_values()\n",
    "\n",
    "# define function to use apply() later to update kitchen area\n",
    "def area_kitchen_update(row):\n",
    "    area = row['kitchen_area']\n",
    "    area_category = row['area_category']\n",
    "    \n",
    "    if not(pd.isnull(area)):\n",
    "        return area\n",
    "    else:\n",
    "        for k in range(num_area_category):\n",
    "            if area_category == kitchen_area_category_median.index[k]:\n",
    "                return kitchen_area_category_median[k]\n",
    "\n",
    "# update column if living area\n",
    "data_real_estate['kitchen_area'] = data_real_estate.apply(area_kitchen_update, axis=1)"
   ]
  },
  {
   "cell_type": "markdown",
   "metadata": {},
   "source": [
    "### 4. *balconies*"
   ]
  },
  {
   "cell_type": "code",
   "execution_count": 147,
   "metadata": {},
   "outputs": [],
   "source": [
    "# if the user doesn’t enter the number of balconies, then there probably aren’t any.\n",
    "# The correct course of action here is to replace these missing values with 0.\n",
    "data_real_estate['balconies'].fillna(0, inplace=True)"
   ]
  },
  {
   "cell_type": "code",
   "execution_count": 148,
   "metadata": {},
   "outputs": [],
   "source": [
    "# convert to integer\n",
    "data_real_estate['balconies'] = data_real_estate['balconies'].astype('int')"
   ]
  },
  {
   "cell_type": "markdown",
   "metadata": {},
   "source": [
    "### 5. *ceiling_height*"
   ]
  },
  {
   "cell_type": "markdown",
   "metadata": {},
   "source": [
    "Ceiling height doesn't depend on other parameters. Approximately 50% of data is absent. We'll leave the column as it is."
   ]
  },
  {
   "cell_type": "code",
   "execution_count": 149,
   "metadata": {},
   "outputs": [
    {
     "name": "stdout",
     "output_type": "stream",
     "text": [
      "Number of unique values: 184\n"
     ]
    }
   ],
   "source": [
    "data_real_estate.ceiling_height.unique()\n",
    "print('Number of unique values: {:}'.format(len(data_real_estate.ceiling_height.unique())))"
   ]
  },
  {
   "cell_type": "markdown",
   "metadata": {},
   "source": [
    "### 6. *floors_total*"
   ]
  },
  {
   "cell_type": "code",
   "execution_count": 150,
   "metadata": {},
   "outputs": [
    {
     "data": {
      "text/plain": [
       "array([16., 11.,  5., 14., 12., 26., 24., 27.,  9.,  6., 17., 25.,  3.,\n",
       "       23., 19., 18.,  4., 22.,  8.,  2., 10.,  7., 13., 15., nan, 20.,\n",
       "       28., 36., 21., 35., 34., 60.,  1., 29., 33., 52., 37.])"
      ]
     },
     "execution_count": 150,
     "metadata": {},
     "output_type": "execute_result"
    }
   ],
   "source": [
    "# show unique values\n",
    "data_real_estate['floors_total'].unique()"
   ]
  },
  {
   "cell_type": "code",
   "execution_count": 151,
   "metadata": {},
   "outputs": [],
   "source": [
    "# I don't see zeros. I will temporarily fillna() with zeroes. This is needed to convert float values to integer.\n",
    "data_real_estate['floors_total'].fillna(0, inplace=True)"
   ]
  },
  {
   "cell_type": "code",
   "execution_count": 152,
   "metadata": {},
   "outputs": [],
   "source": [
    "# convert to integer\n",
    "data_real_estate['floors_total'] = data_real_estate['floors_total'].astype('int')"
   ]
  },
  {
   "cell_type": "code",
   "execution_count": 153,
   "metadata": {},
   "outputs": [
    {
     "data": {
      "text/html": [
       "<div>\n",
       "<style scoped>\n",
       "    .dataframe tbody tr th:only-of-type {\n",
       "        vertical-align: middle;\n",
       "    }\n",
       "\n",
       "    .dataframe tbody tr th {\n",
       "        vertical-align: top;\n",
       "    }\n",
       "\n",
       "    .dataframe thead th {\n",
       "        text-align: right;\n",
       "    }\n",
       "</style>\n",
       "<table border=\"1\" class=\"dataframe\">\n",
       "  <thead>\n",
       "    <tr style=\"text-align: right;\">\n",
       "      <th></th>\n",
       "      <th>date_posted</th>\n",
       "      <th>days_listed</th>\n",
       "      <th>last_price</th>\n",
       "      <th>bedrooms</th>\n",
       "      <th>kitchen_area</th>\n",
       "      <th>living_area</th>\n",
       "      <th>total_area</th>\n",
       "      <th>balconies</th>\n",
       "      <th>ceiling_height</th>\n",
       "      <th>floors_total</th>\n",
       "      <th>...</th>\n",
       "      <th>is_studio</th>\n",
       "      <th>is_open_plan</th>\n",
       "      <th>locality_name</th>\n",
       "      <th>airport_dist</th>\n",
       "      <th>city_center_dist</th>\n",
       "      <th>park_dist</th>\n",
       "      <th>parks_within_3000</th>\n",
       "      <th>pond_dist</th>\n",
       "      <th>ponds_within_3000</th>\n",
       "      <th>area_category</th>\n",
       "    </tr>\n",
       "  </thead>\n",
       "  <tbody>\n",
       "    <tr>\n",
       "      <th>186</th>\n",
       "      <td>2018-10-02</td>\n",
       "      <td>49</td>\n",
       "      <td>232800.0</td>\n",
       "      <td>2</td>\n",
       "      <td>12.00</td>\n",
       "      <td>30.80</td>\n",
       "      <td>65.20</td>\n",
       "      <td>0</td>\n",
       "      <td>NaN</td>\n",
       "      <td>0</td>\n",
       "      <td>...</td>\n",
       "      <td>False</td>\n",
       "      <td>False</td>\n",
       "      <td>Saint Petersburg</td>\n",
       "      <td>39197.0</td>\n",
       "      <td>12373.0</td>\n",
       "      <td>123.0</td>\n",
       "      <td>1.0</td>\n",
       "      <td>NaN</td>\n",
       "      <td>0.0</td>\n",
       "      <td>area_1</td>\n",
       "    </tr>\n",
       "    <tr>\n",
       "      <th>237</th>\n",
       "      <td>2016-11-23</td>\n",
       "      <td>251</td>\n",
       "      <td>48761.0</td>\n",
       "      <td>1</td>\n",
       "      <td>8.30</td>\n",
       "      <td>20.75</td>\n",
       "      <td>28.10</td>\n",
       "      <td>0</td>\n",
       "      <td>NaN</td>\n",
       "      <td>0</td>\n",
       "      <td>...</td>\n",
       "      <td>False</td>\n",
       "      <td>False</td>\n",
       "      <td>Saint Petersburg</td>\n",
       "      <td>22041.0</td>\n",
       "      <td>17369.0</td>\n",
       "      <td>NaN</td>\n",
       "      <td>0.0</td>\n",
       "      <td>374.0</td>\n",
       "      <td>1.0</td>\n",
       "      <td>area_0</td>\n",
       "    </tr>\n",
       "    <tr>\n",
       "      <th>457</th>\n",
       "      <td>2015-08-01</td>\n",
       "      <td>727</td>\n",
       "      <td>195767.0</td>\n",
       "      <td>2</td>\n",
       "      <td>10.63</td>\n",
       "      <td>38.40</td>\n",
       "      <td>70.80</td>\n",
       "      <td>0</td>\n",
       "      <td>NaN</td>\n",
       "      <td>0</td>\n",
       "      <td>...</td>\n",
       "      <td>False</td>\n",
       "      <td>False</td>\n",
       "      <td>Saint Petersburg</td>\n",
       "      <td>37364.0</td>\n",
       "      <td>8322.0</td>\n",
       "      <td>309.0</td>\n",
       "      <td>2.0</td>\n",
       "      <td>706.0</td>\n",
       "      <td>2.0</td>\n",
       "      <td>area_1</td>\n",
       "    </tr>\n",
       "    <tr>\n",
       "      <th>671</th>\n",
       "      <td>2017-04-06</td>\n",
       "      <td>123</td>\n",
       "      <td>121024.0</td>\n",
       "      <td>3</td>\n",
       "      <td>16.80</td>\n",
       "      <td>47.10</td>\n",
       "      <td>93.60</td>\n",
       "      <td>0</td>\n",
       "      <td>NaN</td>\n",
       "      <td>0</td>\n",
       "      <td>...</td>\n",
       "      <td>False</td>\n",
       "      <td>False</td>\n",
       "      <td>Saint Petersburg</td>\n",
       "      <td>22041.0</td>\n",
       "      <td>17369.0</td>\n",
       "      <td>NaN</td>\n",
       "      <td>0.0</td>\n",
       "      <td>374.0</td>\n",
       "      <td>1.0</td>\n",
       "      <td>area_2</td>\n",
       "    </tr>\n",
       "    <tr>\n",
       "      <th>1757</th>\n",
       "      <td>2017-04-22</td>\n",
       "      <td>77</td>\n",
       "      <td>72000.0</td>\n",
       "      <td>1</td>\n",
       "      <td>8.30</td>\n",
       "      <td>18.00</td>\n",
       "      <td>39.00</td>\n",
       "      <td>0</td>\n",
       "      <td>NaN</td>\n",
       "      <td>0</td>\n",
       "      <td>...</td>\n",
       "      <td>False</td>\n",
       "      <td>False</td>\n",
       "      <td>Saint Petersburg</td>\n",
       "      <td>22735.0</td>\n",
       "      <td>11618.0</td>\n",
       "      <td>835.0</td>\n",
       "      <td>1.0</td>\n",
       "      <td>652.0</td>\n",
       "      <td>1.0</td>\n",
       "      <td>area_0</td>\n",
       "    </tr>\n",
       "    <tr>\n",
       "      <th>1930</th>\n",
       "      <td>2016-05-13</td>\n",
       "      <td>90</td>\n",
       "      <td>195000.0</td>\n",
       "      <td>2</td>\n",
       "      <td>9.00</td>\n",
       "      <td>35.00</td>\n",
       "      <td>66.77</td>\n",
       "      <td>0</td>\n",
       "      <td>NaN</td>\n",
       "      <td>0</td>\n",
       "      <td>...</td>\n",
       "      <td>False</td>\n",
       "      <td>False</td>\n",
       "      <td>Saint Petersburg</td>\n",
       "      <td>39886.0</td>\n",
       "      <td>10660.0</td>\n",
       "      <td>2276.0</td>\n",
       "      <td>1.0</td>\n",
       "      <td>244.0</td>\n",
       "      <td>3.0</td>\n",
       "      <td>area_1</td>\n",
       "    </tr>\n",
       "    <tr>\n",
       "      <th>2392</th>\n",
       "      <td>2017-06-29</td>\n",
       "      <td>48</td>\n",
       "      <td>107915.0</td>\n",
       "      <td>2</td>\n",
       "      <td>9.00</td>\n",
       "      <td>29.00</td>\n",
       "      <td>53.00</td>\n",
       "      <td>0</td>\n",
       "      <td>NaN</td>\n",
       "      <td>0</td>\n",
       "      <td>...</td>\n",
       "      <td>False</td>\n",
       "      <td>False</td>\n",
       "      <td>Saint Petersburg</td>\n",
       "      <td>43074.0</td>\n",
       "      <td>10820.0</td>\n",
       "      <td>NaN</td>\n",
       "      <td>0.0</td>\n",
       "      <td>NaN</td>\n",
       "      <td>0.0</td>\n",
       "      <td>area_1</td>\n",
       "    </tr>\n",
       "    <tr>\n",
       "      <th>2846</th>\n",
       "      <td>2016-09-21</td>\n",
       "      <td>307</td>\n",
       "      <td>46500.0</td>\n",
       "      <td>1</td>\n",
       "      <td>8.30</td>\n",
       "      <td>19.40</td>\n",
       "      <td>27.80</td>\n",
       "      <td>0</td>\n",
       "      <td>NaN</td>\n",
       "      <td>0</td>\n",
       "      <td>...</td>\n",
       "      <td>False</td>\n",
       "      <td>False</td>\n",
       "      <td>Saint Petersburg</td>\n",
       "      <td>22041.0</td>\n",
       "      <td>17369.0</td>\n",
       "      <td>NaN</td>\n",
       "      <td>0.0</td>\n",
       "      <td>374.0</td>\n",
       "      <td>1.0</td>\n",
       "      <td>area_0</td>\n",
       "    </tr>\n",
       "    <tr>\n",
       "      <th>2952</th>\n",
       "      <td>2019-04-23</td>\n",
       "      <td>0</td>\n",
       "      <td>130000.0</td>\n",
       "      <td>1</td>\n",
       "      <td>12.30</td>\n",
       "      <td>22.20</td>\n",
       "      <td>54.30</td>\n",
       "      <td>0</td>\n",
       "      <td>NaN</td>\n",
       "      <td>0</td>\n",
       "      <td>...</td>\n",
       "      <td>False</td>\n",
       "      <td>False</td>\n",
       "      <td>Saint Petersburg</td>\n",
       "      <td>23606.0</td>\n",
       "      <td>3148.0</td>\n",
       "      <td>NaN</td>\n",
       "      <td>0.0</td>\n",
       "      <td>NaN</td>\n",
       "      <td>0.0</td>\n",
       "      <td>area_1</td>\n",
       "    </tr>\n",
       "    <tr>\n",
       "      <th>3031</th>\n",
       "      <td>2018-03-27</td>\n",
       "      <td>231</td>\n",
       "      <td>128000.0</td>\n",
       "      <td>2</td>\n",
       "      <td>12.00</td>\n",
       "      <td>32.00</td>\n",
       "      <td>56.70</td>\n",
       "      <td>0</td>\n",
       "      <td>NaN</td>\n",
       "      <td>0</td>\n",
       "      <td>...</td>\n",
       "      <td>False</td>\n",
       "      <td>False</td>\n",
       "      <td>Kudrovo</td>\n",
       "      <td>NaN</td>\n",
       "      <td>NaN</td>\n",
       "      <td>NaN</td>\n",
       "      <td>NaN</td>\n",
       "      <td>NaN</td>\n",
       "      <td>NaN</td>\n",
       "      <td>area_1</td>\n",
       "    </tr>\n",
       "  </tbody>\n",
       "</table>\n",
       "<p>10 rows × 23 columns</p>\n",
       "</div>"
      ],
      "text/plain": [
       "     date_posted  days_listed  last_price  bedrooms  kitchen_area  \\\n",
       "186   2018-10-02           49    232800.0         2         12.00   \n",
       "237   2016-11-23          251     48761.0         1          8.30   \n",
       "457   2015-08-01          727    195767.0         2         10.63   \n",
       "671   2017-04-06          123    121024.0         3         16.80   \n",
       "1757  2017-04-22           77     72000.0         1          8.30   \n",
       "1930  2016-05-13           90    195000.0         2          9.00   \n",
       "2392  2017-06-29           48    107915.0         2          9.00   \n",
       "2846  2016-09-21          307     46500.0         1          8.30   \n",
       "2952  2019-04-23            0    130000.0         1         12.30   \n",
       "3031  2018-03-27          231    128000.0         2         12.00   \n",
       "\n",
       "      living_area  total_area  balconies  ceiling_height  floors_total  ...  \\\n",
       "186         30.80       65.20          0             NaN             0  ...   \n",
       "237         20.75       28.10          0             NaN             0  ...   \n",
       "457         38.40       70.80          0             NaN             0  ...   \n",
       "671         47.10       93.60          0             NaN             0  ...   \n",
       "1757        18.00       39.00          0             NaN             0  ...   \n",
       "1930        35.00       66.77          0             NaN             0  ...   \n",
       "2392        29.00       53.00          0             NaN             0  ...   \n",
       "2846        19.40       27.80          0             NaN             0  ...   \n",
       "2952        22.20       54.30          0             NaN             0  ...   \n",
       "3031        32.00       56.70          0             NaN             0  ...   \n",
       "\n",
       "      is_studio  is_open_plan     locality_name  airport_dist  \\\n",
       "186       False         False  Saint Petersburg       39197.0   \n",
       "237       False         False  Saint Petersburg       22041.0   \n",
       "457       False         False  Saint Petersburg       37364.0   \n",
       "671       False         False  Saint Petersburg       22041.0   \n",
       "1757      False         False  Saint Petersburg       22735.0   \n",
       "1930      False         False  Saint Petersburg       39886.0   \n",
       "2392      False         False  Saint Petersburg       43074.0   \n",
       "2846      False         False  Saint Petersburg       22041.0   \n",
       "2952      False         False  Saint Petersburg       23606.0   \n",
       "3031      False         False           Kudrovo           NaN   \n",
       "\n",
       "      city_center_dist park_dist  parks_within_3000  pond_dist  \\\n",
       "186            12373.0     123.0                1.0        NaN   \n",
       "237            17369.0       NaN                0.0      374.0   \n",
       "457             8322.0     309.0                2.0      706.0   \n",
       "671            17369.0       NaN                0.0      374.0   \n",
       "1757           11618.0     835.0                1.0      652.0   \n",
       "1930           10660.0    2276.0                1.0      244.0   \n",
       "2392           10820.0       NaN                0.0        NaN   \n",
       "2846           17369.0       NaN                0.0      374.0   \n",
       "2952            3148.0       NaN                0.0        NaN   \n",
       "3031               NaN       NaN                NaN        NaN   \n",
       "\n",
       "      ponds_within_3000  area_category  \n",
       "186                 0.0         area_1  \n",
       "237                 1.0         area_0  \n",
       "457                 2.0         area_1  \n",
       "671                 1.0         area_2  \n",
       "1757                1.0         area_0  \n",
       "1930                3.0         area_1  \n",
       "2392                0.0         area_1  \n",
       "2846                1.0         area_0  \n",
       "2952                0.0         area_1  \n",
       "3031                NaN         area_1  \n",
       "\n",
       "[10 rows x 23 columns]"
      ]
     },
     "execution_count": 153,
     "metadata": {},
     "output_type": "execute_result"
    }
   ],
   "source": [
    "# show all None (now zero) values, maybe I will see how to update this column\n",
    "data_real_estate.query('floors_total == 0').head(10)"
   ]
  },
  {
   "cell_type": "markdown",
   "metadata": {},
   "source": [
    "Nothing special I can see here. It is hard to reveal some dependences using only data-table. Maybe later I will see something interesting."
   ]
  },
  {
   "cell_type": "markdown",
   "metadata": {},
   "source": [
    "### 7. *bike_parking*, *locality_name*, *airport_dist*, *city_center_dist*, *park_dist* and *pond_dist*"
   ]
  },
  {
   "cell_type": "markdown",
   "metadata": {},
   "source": [
    "Nothing to do. There is no some data. But I can't just fill None by random values."
   ]
  },
  {
   "cell_type": "markdown",
   "metadata": {},
   "source": [
    "### 8. *parks_within_3000* and *ponds_within_3000*"
   ]
  },
  {
   "cell_type": "code",
   "execution_count": 154,
   "metadata": {},
   "outputs": [
    {
     "name": "stdout",
     "output_type": "stream",
     "text": [
      "[ 1.  0.  2. nan  3.]\n",
      "[ 2.  0.  3.  1. nan]\n"
     ]
    }
   ],
   "source": [
    "print(data_real_estate['parks_within_3000'].unique())\n",
    "print(data_real_estate['ponds_within_3000'].unique())"
   ]
  },
  {
   "cell_type": "code",
   "execution_count": 155,
   "metadata": {},
   "outputs": [],
   "source": [
    "# I don't see 10. I will temporarily fillna() with 10. I want to do it to convert float values with integer.\n",
    "data_real_estate['parks_within_3000'].fillna(10, inplace=True)\n",
    "data_real_estate['ponds_within_3000'].fillna(10, inplace=True)"
   ]
  },
  {
   "cell_type": "code",
   "execution_count": 156,
   "metadata": {},
   "outputs": [],
   "source": [
    "data_real_estate['parks_within_3000'] = data_real_estate['parks_within_3000'].astype('int')\n",
    "data_real_estate['ponds_within_3000'] = data_real_estate['ponds_within_3000'].astype('int')"
   ]
  },
  {
   "cell_type": "code",
   "execution_count": 157,
   "metadata": {},
   "outputs": [
    {
     "name": "stderr",
     "output_type": "stream",
     "text": [
      "C:\\Users\\tyala\\anaconda3\\lib\\site-packages\\ipykernel_launcher.py:1: SettingWithCopyWarning: \n",
      "A value is trying to be set on a copy of a slice from a DataFrame.\n",
      "Try using .loc[row_indexer,col_indexer] = value instead\n",
      "\n",
      "See the caveats in the documentation: https://pandas.pydata.org/pandas-docs/stable/user_guide/indexing.html#returning-a-view-versus-a-copy\n",
      "  \"\"\"Entry point for launching an IPython kernel.\n",
      "C:\\Users\\tyala\\anaconda3\\lib\\site-packages\\ipykernel_launcher.py:2: SettingWithCopyWarning: \n",
      "A value is trying to be set on a copy of a slice from a DataFrame.\n",
      "Try using .loc[row_indexer,col_indexer] = value instead\n",
      "\n",
      "See the caveats in the documentation: https://pandas.pydata.org/pandas-docs/stable/user_guide/indexing.html#returning-a-view-versus-a-copy\n",
      "  \n"
     ]
    }
   ],
   "source": [
    "data_real_estate[data_real_estate['parks_within_3000'] == 10]['parks_within_3000'] = None\n",
    "data_real_estate[data_real_estate['ponds_within_3000'] == 10]['ponds_within_3000'] = None"
   ]
  },
  {
   "cell_type": "markdown",
   "metadata": {},
   "source": [
    "FAIL! While there is None, this column can't be integer."
   ]
  },
  {
   "cell_type": "markdown",
   "metadata": {},
   "source": [
    "### 9. *bedrooms*\n",
    "I noticed that there are several apartments with 0-values in *bedrooms* column <br>\n",
    "I think that I can do something with this data."
   ]
  },
  {
   "cell_type": "code",
   "execution_count": 158,
   "metadata": {},
   "outputs": [
    {
     "data": {
      "text/html": [
       "<div>\n",
       "<style scoped>\n",
       "    .dataframe tbody tr th:only-of-type {\n",
       "        vertical-align: middle;\n",
       "    }\n",
       "\n",
       "    .dataframe tbody tr th {\n",
       "        vertical-align: top;\n",
       "    }\n",
       "\n",
       "    .dataframe thead th {\n",
       "        text-align: right;\n",
       "    }\n",
       "</style>\n",
       "<table border=\"1\" class=\"dataframe\">\n",
       "  <thead>\n",
       "    <tr style=\"text-align: right;\">\n",
       "      <th></th>\n",
       "      <th>date_posted</th>\n",
       "      <th>days_listed</th>\n",
       "      <th>last_price</th>\n",
       "      <th>bedrooms</th>\n",
       "      <th>kitchen_area</th>\n",
       "      <th>living_area</th>\n",
       "      <th>total_area</th>\n",
       "      <th>balconies</th>\n",
       "      <th>ceiling_height</th>\n",
       "      <th>floors_total</th>\n",
       "      <th>...</th>\n",
       "      <th>is_studio</th>\n",
       "      <th>is_open_plan</th>\n",
       "      <th>locality_name</th>\n",
       "      <th>airport_dist</th>\n",
       "      <th>city_center_dist</th>\n",
       "      <th>park_dist</th>\n",
       "      <th>parks_within_3000</th>\n",
       "      <th>pond_dist</th>\n",
       "      <th>ponds_within_3000</th>\n",
       "      <th>area_category</th>\n",
       "    </tr>\n",
       "  </thead>\n",
       "  <tbody>\n",
       "    <tr>\n",
       "      <th>144</th>\n",
       "      <td>2017-03-30</td>\n",
       "      <td>181</td>\n",
       "      <td>49000.0</td>\n",
       "      <td>0</td>\n",
       "      <td>8.3</td>\n",
       "      <td>15.50</td>\n",
       "      <td>27.00</td>\n",
       "      <td>2</td>\n",
       "      <td>NaN</td>\n",
       "      <td>24</td>\n",
       "      <td>...</td>\n",
       "      <td>True</td>\n",
       "      <td>False</td>\n",
       "      <td>Murino village</td>\n",
       "      <td>NaN</td>\n",
       "      <td>NaN</td>\n",
       "      <td>NaN</td>\n",
       "      <td>10</td>\n",
       "      <td>NaN</td>\n",
       "      <td>10</td>\n",
       "      <td>area_0</td>\n",
       "    </tr>\n",
       "    <tr>\n",
       "      <th>349</th>\n",
       "      <td>2017-09-27</td>\n",
       "      <td>45</td>\n",
       "      <td>46400.0</td>\n",
       "      <td>0</td>\n",
       "      <td>8.3</td>\n",
       "      <td>17.00</td>\n",
       "      <td>25.00</td>\n",
       "      <td>0</td>\n",
       "      <td>NaN</td>\n",
       "      <td>14</td>\n",
       "      <td>...</td>\n",
       "      <td>False</td>\n",
       "      <td>True</td>\n",
       "      <td>Kudrovo village</td>\n",
       "      <td>NaN</td>\n",
       "      <td>NaN</td>\n",
       "      <td>NaN</td>\n",
       "      <td>10</td>\n",
       "      <td>NaN</td>\n",
       "      <td>10</td>\n",
       "      <td>area_0</td>\n",
       "    </tr>\n",
       "    <tr>\n",
       "      <th>440</th>\n",
       "      <td>2018-03-12</td>\n",
       "      <td>64</td>\n",
       "      <td>49600.0</td>\n",
       "      <td>0</td>\n",
       "      <td>8.3</td>\n",
       "      <td>24.75</td>\n",
       "      <td>27.11</td>\n",
       "      <td>2</td>\n",
       "      <td>NaN</td>\n",
       "      <td>17</td>\n",
       "      <td>...</td>\n",
       "      <td>True</td>\n",
       "      <td>False</td>\n",
       "      <td>Saint Petersburg</td>\n",
       "      <td>38171.0</td>\n",
       "      <td>15015.0</td>\n",
       "      <td>NaN</td>\n",
       "      <td>0</td>\n",
       "      <td>982.0</td>\n",
       "      <td>2</td>\n",
       "      <td>area_0</td>\n",
       "    </tr>\n",
       "    <tr>\n",
       "      <th>508</th>\n",
       "      <td>2017-03-28</td>\n",
       "      <td>430</td>\n",
       "      <td>67500.0</td>\n",
       "      <td>0</td>\n",
       "      <td>8.3</td>\n",
       "      <td>24.30</td>\n",
       "      <td>34.40</td>\n",
       "      <td>1</td>\n",
       "      <td>NaN</td>\n",
       "      <td>26</td>\n",
       "      <td>...</td>\n",
       "      <td>False</td>\n",
       "      <td>True</td>\n",
       "      <td>Pargolovo village</td>\n",
       "      <td>53115.0</td>\n",
       "      <td>19292.0</td>\n",
       "      <td>NaN</td>\n",
       "      <td>0</td>\n",
       "      <td>593.0</td>\n",
       "      <td>1</td>\n",
       "      <td>area_0</td>\n",
       "    </tr>\n",
       "    <tr>\n",
       "      <th>608</th>\n",
       "      <td>2019-02-20</td>\n",
       "      <td>29</td>\n",
       "      <td>37000.0</td>\n",
       "      <td>0</td>\n",
       "      <td>8.3</td>\n",
       "      <td>18.00</td>\n",
       "      <td>25.00</td>\n",
       "      <td>0</td>\n",
       "      <td>NaN</td>\n",
       "      <td>10</td>\n",
       "      <td>...</td>\n",
       "      <td>True</td>\n",
       "      <td>False</td>\n",
       "      <td>Shushary village</td>\n",
       "      <td>NaN</td>\n",
       "      <td>NaN</td>\n",
       "      <td>NaN</td>\n",
       "      <td>10</td>\n",
       "      <td>NaN</td>\n",
       "      <td>10</td>\n",
       "      <td>area_0</td>\n",
       "    </tr>\n",
       "  </tbody>\n",
       "</table>\n",
       "<p>5 rows × 23 columns</p>\n",
       "</div>"
      ],
      "text/plain": [
       "    date_posted  days_listed  last_price  bedrooms  kitchen_area  living_area  \\\n",
       "144  2017-03-30          181     49000.0         0           8.3        15.50   \n",
       "349  2017-09-27           45     46400.0         0           8.3        17.00   \n",
       "440  2018-03-12           64     49600.0         0           8.3        24.75   \n",
       "508  2017-03-28          430     67500.0         0           8.3        24.30   \n",
       "608  2019-02-20           29     37000.0         0           8.3        18.00   \n",
       "\n",
       "     total_area  balconies  ceiling_height  floors_total  ...  is_studio  \\\n",
       "144       27.00          2             NaN            24  ...       True   \n",
       "349       25.00          0             NaN            14  ...      False   \n",
       "440       27.11          2             NaN            17  ...       True   \n",
       "508       34.40          1             NaN            26  ...      False   \n",
       "608       25.00          0             NaN            10  ...       True   \n",
       "\n",
       "     is_open_plan      locality_name  airport_dist  city_center_dist  \\\n",
       "144         False     Murino village           NaN               NaN   \n",
       "349          True    Kudrovo village           NaN               NaN   \n",
       "440         False   Saint Petersburg       38171.0           15015.0   \n",
       "508          True  Pargolovo village       53115.0           19292.0   \n",
       "608         False   Shushary village           NaN               NaN   \n",
       "\n",
       "    park_dist  parks_within_3000  pond_dist  ponds_within_3000  area_category  \n",
       "144       NaN                 10        NaN                 10         area_0  \n",
       "349       NaN                 10        NaN                 10         area_0  \n",
       "440       NaN                  0      982.0                  2         area_0  \n",
       "508       NaN                  0      593.0                  1         area_0  \n",
       "608       NaN                 10        NaN                 10         area_0  \n",
       "\n",
       "[5 rows x 23 columns]"
      ]
     },
     "execution_count": 158,
     "metadata": {},
     "output_type": "execute_result"
    }
   ],
   "source": [
    "data_real_estate.query('bedrooms == 0').head()"
   ]
  },
  {
   "cell_type": "code",
   "execution_count": 159,
   "metadata": {},
   "outputs": [
    {
     "data": {
      "text/plain": [
       "<matplotlib.axes._subplots.AxesSubplot at 0x1b2dba3dc48>"
      ]
     },
     "execution_count": 159,
     "metadata": {},
     "output_type": "execute_result"
    },
    {
     "data": {
      "image/png": "[encoded data removed]",
      "text/plain": [
       "<Figure size 432x288 with 1 Axes>"
      ]
     },
     "metadata": {
      "needs_background": "light"
     },
     "output_type": "display_data"
    }
   ],
   "source": [
    "# I have noticed that total_area is rather small\n",
    "# build a histogram\n",
    "data_real_estate.query('bedrooms == 0')['total_area'].hist(bins=30)"
   ]
  },
  {
   "cell_type": "markdown",
   "metadata": {},
   "source": [
    "Most of this data has relatively small total area."
   ]
  },
  {
   "cell_type": "code",
   "execution_count": 160,
   "metadata": {},
   "outputs": [
    {
     "name": "stdout",
     "output_type": "stream",
     "text": [
      "bedrooms\n",
      "1      36.56\n",
      "2      53.00\n",
      "3      73.00\n",
      "4      99.30\n",
      "5     146.45\n",
      "6     184.30\n",
      "7     214.00\n",
      "8     235.70\n",
      "9     300.95\n",
      "10    272.60\n",
      "11    188.90\n",
      "12    900.00\n",
      "14    304.20\n",
      "15    590.00\n",
      "16    270.00\n",
      "19    374.60\n",
      "Name: total_area, dtype: float64\n"
     ]
    }
   ],
   "source": [
    "# group by number of bedrooms and define median total area in each group\n",
    "bedrooms_area_const = data_real_estate.query('bedrooms != 0').groupby('bedrooms')['total_area'].median()\n",
    "print(bedrooms_area_const)"
   ]
  },
  {
   "cell_type": "code",
   "execution_count": 161,
   "metadata": {},
   "outputs": [
    {
     "data": {
      "text/plain": [
       "40.21600000000001"
      ]
     },
     "execution_count": 161,
     "metadata": {},
     "output_type": "execute_result"
    }
   ],
   "source": [
    "bedrooms_area_const[1] * 1.1"
   ]
  },
  {
   "cell_type": "code",
   "execution_count": 162,
   "metadata": {},
   "outputs": [],
   "source": [
    "# As expected apartments with only 1 bedroom have small total area - below 40 m2\n",
    "# Now I have what I need to do an update\n",
    "def update_bedrooms(row):\n",
    "    beds = row['bedrooms']\n",
    "    area = row['total_area']\n",
    "    \n",
    "    if beds != 0:\n",
    "        return beds\n",
    "    else:\n",
    "        if area < (bedrooms_area_const[1] + bedrooms_area_const[2]) / 2:\n",
    "            return 1\n",
    "        elif area < (bedrooms_area_const[2] + bedrooms_area_const[3]) / 2:\n",
    "            return 2\n",
    "        elif area < (bedrooms_area_const[3] + bedrooms_area_const[4]) / 2:\n",
    "            return 3\n",
    "        elif area < (bedrooms_area_const[4] + bedrooms_area_const[5]) / 2:\n",
    "            return 4\n",
    "    return 0\n",
    "\n",
    "data_real_estate['bedrooms'] = data_real_estate.apply(update_bedrooms, axis=1)"
   ]
  },
  {
   "cell_type": "code",
   "execution_count": 163,
   "metadata": {},
   "outputs": [
    {
     "data": {
      "text/html": [
       "<div>\n",
       "<style scoped>\n",
       "    .dataframe tbody tr th:only-of-type {\n",
       "        vertical-align: middle;\n",
       "    }\n",
       "\n",
       "    .dataframe tbody tr th {\n",
       "        vertical-align: top;\n",
       "    }\n",
       "\n",
       "    .dataframe thead th {\n",
       "        text-align: right;\n",
       "    }\n",
       "</style>\n",
       "<table border=\"1\" class=\"dataframe\">\n",
       "  <thead>\n",
       "    <tr style=\"text-align: right;\">\n",
       "      <th></th>\n",
       "      <th>date_posted</th>\n",
       "      <th>days_listed</th>\n",
       "      <th>last_price</th>\n",
       "      <th>bedrooms</th>\n",
       "      <th>kitchen_area</th>\n",
       "      <th>living_area</th>\n",
       "      <th>total_area</th>\n",
       "      <th>balconies</th>\n",
       "      <th>ceiling_height</th>\n",
       "      <th>floors_total</th>\n",
       "      <th>...</th>\n",
       "      <th>is_studio</th>\n",
       "      <th>is_open_plan</th>\n",
       "      <th>locality_name</th>\n",
       "      <th>airport_dist</th>\n",
       "      <th>city_center_dist</th>\n",
       "      <th>park_dist</th>\n",
       "      <th>parks_within_3000</th>\n",
       "      <th>pond_dist</th>\n",
       "      <th>ponds_within_3000</th>\n",
       "      <th>area_category</th>\n",
       "    </tr>\n",
       "  </thead>\n",
       "  <tbody>\n",
       "    <tr>\n",
       "      <th>19392</th>\n",
       "      <td>2018-07-26</td>\n",
       "      <td>90</td>\n",
       "      <td>1420000.0</td>\n",
       "      <td>0</td>\n",
       "      <td>34.365</td>\n",
       "      <td>222.0</td>\n",
       "      <td>371.0</td>\n",
       "      <td>0</td>\n",
       "      <td>3.57</td>\n",
       "      <td>7</td>\n",
       "      <td>...</td>\n",
       "      <td>False</td>\n",
       "      <td>True</td>\n",
       "      <td>Saint Petersburg</td>\n",
       "      <td>25257.0</td>\n",
       "      <td>6060.0</td>\n",
       "      <td>761.0</td>\n",
       "      <td>1</td>\n",
       "      <td>584.0</td>\n",
       "      <td>1</td>\n",
       "      <td>area_8</td>\n",
       "    </tr>\n",
       "  </tbody>\n",
       "</table>\n",
       "<p>1 rows × 23 columns</p>\n",
       "</div>"
      ],
      "text/plain": [
       "      date_posted  days_listed  last_price  bedrooms  kitchen_area  \\\n",
       "19392  2018-07-26           90   1420000.0         0        34.365   \n",
       "\n",
       "       living_area  total_area  balconies  ceiling_height  floors_total  ...  \\\n",
       "19392        222.0       371.0          0            3.57             7  ...   \n",
       "\n",
       "       is_studio  is_open_plan     locality_name  airport_dist  \\\n",
       "19392      False          True  Saint Petersburg       25257.0   \n",
       "\n",
       "       city_center_dist park_dist  parks_within_3000  pond_dist  \\\n",
       "19392            6060.0     761.0                  1      584.0   \n",
       "\n",
       "       ponds_within_3000  area_category  \n",
       "19392                  1         area_8  \n",
       "\n",
       "[1 rows x 23 columns]"
      ]
     },
     "execution_count": 163,
     "metadata": {},
     "output_type": "execute_result"
    }
   ],
   "source": [
    "data_real_estate.query('bedrooms == 0')"
   ]
  },
  {
   "cell_type": "markdown",
   "metadata": {},
   "source": [
    "Last apartment has 371 m2. In fact it is hard to understand how many bedrooms are in it. But it is the only value. Maybe it will not be a big mistake to assign some random value."
   ]
  },
  {
   "cell_type": "code",
   "execution_count": 164,
   "metadata": {},
   "outputs": [],
   "source": [
    "data_real_estate.loc[19392, 'bedrooms'] = 19"
   ]
  },
  {
   "cell_type": "markdown",
   "metadata": {},
   "source": [
    "# RESULTS of Step 2.\n",
    "I have changed some types and fill in some columns None-values."
   ]
  },
  {
   "cell_type": "markdown",
   "metadata": {},
   "source": [
    "<div class=\"alert alert-block alert-success\">\n",
    "Great job so far!\n",
    "</div>"
   ]
  },
  {
   "cell_type": "markdown",
   "metadata": {},
   "source": [
    "# Step 3. Make calculations and add the following entries to the table:\n",
    "* the price per square meter\n",
    "* the day of the week, month, and year that the ad was published\n",
    "* which floor the apartment is on (first, last, or other)\n",
    "* the ratio between the living space and the total area, as well as between the kitchen space and the total area."
   ]
  },
  {
   "cell_type": "code",
   "execution_count": 165,
   "metadata": {},
   "outputs": [],
   "source": [
    "# the price per square meter\n",
    "data_real_estate['price2sq'] = data_real_estate['last_price'] / data_real_estate['total_area']\n",
    "\n",
    "# the day of the week, month, and year that the ad was published\n",
    "data_real_estate['day_of_week'] = data_real_estate['date_posted'].dt.weekday\n",
    "data_real_estate['month'] = data_real_estate['date_posted'].dt.month\n",
    "data_real_estate['year'] = data_real_estate['date_posted'].dt.year\n",
    "\n",
    "# which floor the apartment is on (first, last, or other)\n",
    "def fun_floor_category(row):\n",
    "    floor = row['floor']\n",
    "    total_floor = row['floors_total']\n",
    "    if floor == 1:\n",
    "        return 'first'\n",
    "    elif floor == total_floor:\n",
    "        return 'last'\n",
    "    else:\n",
    "        return 'other'\n",
    "data_real_estate['floor_category'] = data_real_estate.apply(fun_floor_category, axis=1)\n",
    "\n",
    "# the ratio between the living space and the total area, as well as between the kitchen space and the total area\n",
    "data_real_estate['ratio_living_area'] = data_real_estate['living_area'] / data_real_estate['total_area']\n",
    "data_real_estate['ratio_kitchen_area'] = data_real_estate['kitchen_area'] / data_real_estate['total_area']"
   ]
  },
  {
   "cell_type": "code",
   "execution_count": 166,
   "metadata": {},
   "outputs": [
    {
     "data": {
      "text/html": [
       "<div>\n",
       "<style scoped>\n",
       "    .dataframe tbody tr th:only-of-type {\n",
       "        vertical-align: middle;\n",
       "    }\n",
       "\n",
       "    .dataframe tbody tr th {\n",
       "        vertical-align: top;\n",
       "    }\n",
       "\n",
       "    .dataframe thead th {\n",
       "        text-align: right;\n",
       "    }\n",
       "</style>\n",
       "<table border=\"1\" class=\"dataframe\">\n",
       "  <thead>\n",
       "    <tr style=\"text-align: right;\">\n",
       "      <th></th>\n",
       "      <th>date_posted</th>\n",
       "      <th>days_listed</th>\n",
       "      <th>last_price</th>\n",
       "      <th>bedrooms</th>\n",
       "      <th>kitchen_area</th>\n",
       "      <th>living_area</th>\n",
       "      <th>total_area</th>\n",
       "      <th>balconies</th>\n",
       "      <th>ceiling_height</th>\n",
       "      <th>floors_total</th>\n",
       "      <th>...</th>\n",
       "      <th>pond_dist</th>\n",
       "      <th>ponds_within_3000</th>\n",
       "      <th>area_category</th>\n",
       "      <th>price2sq</th>\n",
       "      <th>day_of_week</th>\n",
       "      <th>month</th>\n",
       "      <th>year</th>\n",
       "      <th>floor_category</th>\n",
       "      <th>ratio_living_area</th>\n",
       "      <th>ratio_kitchen_area</th>\n",
       "    </tr>\n",
       "  </thead>\n",
       "  <tbody>\n",
       "    <tr>\n",
       "      <th>0</th>\n",
       "      <td>2019-03-07</td>\n",
       "      <td>0</td>\n",
       "      <td>260000.0</td>\n",
       "      <td>3</td>\n",
       "      <td>25.0</td>\n",
       "      <td>51.0</td>\n",
       "      <td>108.0</td>\n",
       "      <td>0</td>\n",
       "      <td>2.70</td>\n",
       "      <td>16</td>\n",
       "      <td>...</td>\n",
       "      <td>755.0</td>\n",
       "      <td>2</td>\n",
       "      <td>area_2</td>\n",
       "      <td>2407.407407</td>\n",
       "      <td>3</td>\n",
       "      <td>3</td>\n",
       "      <td>2019</td>\n",
       "      <td>other</td>\n",
       "      <td>0.472222</td>\n",
       "      <td>0.231481</td>\n",
       "    </tr>\n",
       "    <tr>\n",
       "      <th>1</th>\n",
       "      <td>2018-12-04</td>\n",
       "      <td>81</td>\n",
       "      <td>67000.0</td>\n",
       "      <td>1</td>\n",
       "      <td>11.0</td>\n",
       "      <td>18.6</td>\n",
       "      <td>40.4</td>\n",
       "      <td>2</td>\n",
       "      <td>NaN</td>\n",
       "      <td>11</td>\n",
       "      <td>...</td>\n",
       "      <td>NaN</td>\n",
       "      <td>0</td>\n",
       "      <td>area_0</td>\n",
       "      <td>1658.415842</td>\n",
       "      <td>1</td>\n",
       "      <td>12</td>\n",
       "      <td>2018</td>\n",
       "      <td>first</td>\n",
       "      <td>0.460396</td>\n",
       "      <td>0.272277</td>\n",
       "    </tr>\n",
       "    <tr>\n",
       "      <th>2</th>\n",
       "      <td>2015-08-20</td>\n",
       "      <td>558</td>\n",
       "      <td>103920.0</td>\n",
       "      <td>2</td>\n",
       "      <td>8.3</td>\n",
       "      <td>34.3</td>\n",
       "      <td>56.0</td>\n",
       "      <td>0</td>\n",
       "      <td>NaN</td>\n",
       "      <td>5</td>\n",
       "      <td>...</td>\n",
       "      <td>574.0</td>\n",
       "      <td>2</td>\n",
       "      <td>area_1</td>\n",
       "      <td>1855.714286</td>\n",
       "      <td>3</td>\n",
       "      <td>8</td>\n",
       "      <td>2015</td>\n",
       "      <td>other</td>\n",
       "      <td>0.612500</td>\n",
       "      <td>0.148214</td>\n",
       "    </tr>\n",
       "    <tr>\n",
       "      <th>3</th>\n",
       "      <td>2015-07-24</td>\n",
       "      <td>424</td>\n",
       "      <td>1298000.0</td>\n",
       "      <td>3</td>\n",
       "      <td>18.8</td>\n",
       "      <td>91.9</td>\n",
       "      <td>159.0</td>\n",
       "      <td>0</td>\n",
       "      <td>NaN</td>\n",
       "      <td>14</td>\n",
       "      <td>...</td>\n",
       "      <td>234.0</td>\n",
       "      <td>3</td>\n",
       "      <td>area_3</td>\n",
       "      <td>8163.522013</td>\n",
       "      <td>4</td>\n",
       "      <td>7</td>\n",
       "      <td>2015</td>\n",
       "      <td>other</td>\n",
       "      <td>0.577987</td>\n",
       "      <td>0.118239</td>\n",
       "    </tr>\n",
       "    <tr>\n",
       "      <th>4</th>\n",
       "      <td>2018-06-19</td>\n",
       "      <td>121</td>\n",
       "      <td>200000.0</td>\n",
       "      <td>2</td>\n",
       "      <td>41.0</td>\n",
       "      <td>32.0</td>\n",
       "      <td>100.0</td>\n",
       "      <td>0</td>\n",
       "      <td>3.03</td>\n",
       "      <td>14</td>\n",
       "      <td>...</td>\n",
       "      <td>48.0</td>\n",
       "      <td>1</td>\n",
       "      <td>area_2</td>\n",
       "      <td>2000.000000</td>\n",
       "      <td>1</td>\n",
       "      <td>6</td>\n",
       "      <td>2018</td>\n",
       "      <td>other</td>\n",
       "      <td>0.320000</td>\n",
       "      <td>0.410000</td>\n",
       "    </tr>\n",
       "  </tbody>\n",
       "</table>\n",
       "<p>5 rows × 30 columns</p>\n",
       "</div>"
      ],
      "text/plain": [
       "  date_posted  days_listed  last_price  bedrooms  kitchen_area  living_area  \\\n",
       "0  2019-03-07            0    260000.0         3          25.0         51.0   \n",
       "1  2018-12-04           81     67000.0         1          11.0         18.6   \n",
       "2  2015-08-20          558    103920.0         2           8.3         34.3   \n",
       "3  2015-07-24          424   1298000.0         3          18.8         91.9   \n",
       "4  2018-06-19          121    200000.0         2          41.0         32.0   \n",
       "\n",
       "   total_area  balconies  ceiling_height  floors_total  ...  pond_dist  \\\n",
       "0       108.0          0            2.70            16  ...      755.0   \n",
       "1        40.4          2             NaN            11  ...        NaN   \n",
       "2        56.0          0             NaN             5  ...      574.0   \n",
       "3       159.0          0             NaN            14  ...      234.0   \n",
       "4       100.0          0            3.03            14  ...       48.0   \n",
       "\n",
       "   ponds_within_3000 area_category     price2sq  day_of_week month  year  \\\n",
       "0                  2        area_2  2407.407407            3     3  2019   \n",
       "1                  0        area_0  1658.415842            1    12  2018   \n",
       "2                  2        area_1  1855.714286            3     8  2015   \n",
       "3                  3        area_3  8163.522013            4     7  2015   \n",
       "4                  1        area_2  2000.000000            1     6  2018   \n",
       "\n",
       "   floor_category  ratio_living_area  ratio_kitchen_area  \n",
       "0            other           0.472222            0.231481  \n",
       "1            first           0.460396            0.272277  \n",
       "2            other           0.612500            0.148214  \n",
       "3            other           0.577987            0.118239  \n",
       "4            other           0.320000            0.410000  \n",
       "\n",
       "[5 rows x 30 columns]"
      ]
     },
     "execution_count": 166,
     "metadata": {},
     "output_type": "execute_result"
    }
   ],
   "source": [
    "data_real_estate.head(5)"
   ]
  },
  {
   "cell_type": "markdown",
   "metadata": {},
   "source": [
    "# RESULTS of Step 3.\n",
    "I have created new parameters to analyze them below."
   ]
  },
  {
   "cell_type": "markdown",
   "metadata": {},
   "source": [
    "<div class=\"alert alert-block alert-success\">\n",
    "Nicely done!\n",
    "</div>"
   ]
  },
  {
   "cell_type": "markdown",
   "metadata": {},
   "source": [
    "# Step 4. Conduct some exploratory data analysis\n",
    "* Carefully investigate the following parameters: square area, price, number of rooms, and ceiling height. Plot a histogram for each parameter.\n",
    "* Examine the time it's taken to sell the apartment and plot a histogram. Calculate the mean and median and explain the average time it usually takes to complete a sale. When can a sale be considered to have happened rather quickly or taken an extra long time?\n",
    "* Remove rare and outlying values and describe the patterns you've discovered.\n",
    "* Which factors have had the biggest influence on an apartment’s price? Examine whether the value depends on the total square area, number of rooms, floor (top or bottom), or the proximity to the city center area. Also check whether the publication date has any effect on the price: specifically, day of the week, month, and year. Note that using scatter plot is preferable to hexbin. If you do decide to use hexbin, please use scatter plot too, and then compare the results. It is also recommended to check the hexbin documentation and carefully study its parameters.\n",
    "* Select the 10 localities with the largest number of ads then calculate the average price per square meter in these localities. Determine which ones have the highest and lowest housing prices. You can find this data by name in the ’locality_name’ column.\n",
    "* Thoroughly look at apartment offers: Each apartment has information about the distance to the city center. Select apartments in Saint Petersburg (‘locality_name’). Your task is to pinpoint which area is considered to be in the city center. In order to do that, create a column with the distance to the city center in km and round to the nearest whole number. Next, calculate the average price for each kilometer and plot a graph to display how prices are affected by the distance to the city center. Find a place on the graph where it shifts significantly. That's the city center border.\n",
    "* Select all the apartments in the city center and examine correlations between the following parameters: total area, price, number of rooms, ceiling height. Also identify the factors that affect an apartment’s price: number of rooms, floor, distance to the city center, and ad publication date. Draw your conclusions. Are they different from the overall deductions about the entire city?"
   ]
  },
  {
   "cell_type": "markdown",
   "metadata": {},
   "source": [
    "## Step 4.1\n",
    "Carefully investigate the following parameters: square area, price, number of rooms, and ceiling height.\n",
    "Plot a histogram for each parameter."
   ]
  },
  {
   "cell_type": "code",
   "execution_count": 167,
   "metadata": {},
   "outputs": [
    {
     "data": {
      "text/plain": [
       "<matplotlib.axes._subplots.AxesSubplot at 0x1b2d1f1fc48>"
      ]
     },
     "execution_count": 167,
     "metadata": {},
     "output_type": "execute_result"
    },
    {
     "data": {
      "image/png": "[encoded data removed]",
      "text/plain": [
       "<Figure size 432x288 with 1 Axes>"
      ]
     },
     "metadata": {
      "needs_background": "light"
     },
     "output_type": "display_data"
    }
   ],
   "source": [
    "# investigate total_area; histogram of total_area\n",
    "data_real_estate['total_area'].hist(bins=100)"
   ]
  },
  {
   "cell_type": "markdown",
   "metadata": {},
   "source": [
    "<div class=\"alert alert-block alert-warning\">\n",
    "Maybe bins=100 is overdo here :)\n",
    "</div>"
   ]
  },
  {
   "cell_type": "code",
   "execution_count": 168,
   "metadata": {},
   "outputs": [
    {
     "data": {
      "text/plain": [
       "12401    495.0\n",
       "15016    500.0\n",
       "5893     500.0\n",
       "8018     507.0\n",
       "4237     517.0\n",
       "5358     590.0\n",
       "15651    618.0\n",
       "3117     631.0\n",
       "12859    631.2\n",
       "19540    900.0\n",
       "Name: total_area, dtype: float64"
      ]
     },
     "execution_count": 168,
     "metadata": {},
     "output_type": "execute_result"
    }
   ],
   "source": [
    "# I see that there is extremely high value of total area\n",
    "# find the 10 highest values\n",
    "data_real_estate['total_area'].sort_values().tail(10)"
   ]
  },
  {
   "cell_type": "code",
   "execution_count": 169,
   "metadata": {},
   "outputs": [
    {
     "data": {
      "text/html": [
       "<div>\n",
       "<style scoped>\n",
       "    .dataframe tbody tr th:only-of-type {\n",
       "        vertical-align: middle;\n",
       "    }\n",
       "\n",
       "    .dataframe tbody tr th {\n",
       "        vertical-align: top;\n",
       "    }\n",
       "\n",
       "    .dataframe thead th {\n",
       "        text-align: right;\n",
       "    }\n",
       "</style>\n",
       "<table border=\"1\" class=\"dataframe\">\n",
       "  <thead>\n",
       "    <tr style=\"text-align: right;\">\n",
       "      <th></th>\n",
       "      <th>date_posted</th>\n",
       "      <th>days_listed</th>\n",
       "      <th>last_price</th>\n",
       "      <th>bedrooms</th>\n",
       "      <th>kitchen_area</th>\n",
       "      <th>living_area</th>\n",
       "      <th>total_area</th>\n",
       "      <th>balconies</th>\n",
       "      <th>ceiling_height</th>\n",
       "      <th>floors_total</th>\n",
       "      <th>...</th>\n",
       "      <th>pond_dist</th>\n",
       "      <th>ponds_within_3000</th>\n",
       "      <th>area_category</th>\n",
       "      <th>price2sq</th>\n",
       "      <th>day_of_week</th>\n",
       "      <th>month</th>\n",
       "      <th>year</th>\n",
       "      <th>floor_category</th>\n",
       "      <th>ratio_living_area</th>\n",
       "      <th>ratio_kitchen_area</th>\n",
       "    </tr>\n",
       "  </thead>\n",
       "  <tbody>\n",
       "    <tr>\n",
       "      <th>12401</th>\n",
       "      <td>2017-06-19</td>\n",
       "      <td>14</td>\n",
       "      <td>1830000.0</td>\n",
       "      <td>7</td>\n",
       "      <td>25.0</td>\n",
       "      <td>347.5</td>\n",
       "      <td>495.0</td>\n",
       "      <td>0</td>\n",
       "      <td>4.65</td>\n",
       "      <td>7</td>\n",
       "      <td>...</td>\n",
       "      <td>NaN</td>\n",
       "      <td>0</td>\n",
       "      <td>area_11</td>\n",
       "      <td>3696.969697</td>\n",
       "      <td>0</td>\n",
       "      <td>6</td>\n",
       "      <td>2017</td>\n",
       "      <td>last</td>\n",
       "      <td>0.702020</td>\n",
       "      <td>0.050505</td>\n",
       "    </tr>\n",
       "    <tr>\n",
       "      <th>15016</th>\n",
       "      <td>2016-01-13</td>\n",
       "      <td>303</td>\n",
       "      <td>3000000.0</td>\n",
       "      <td>4</td>\n",
       "      <td>32.5</td>\n",
       "      <td>332.0</td>\n",
       "      <td>500.0</td>\n",
       "      <td>0</td>\n",
       "      <td>3.20</td>\n",
       "      <td>7</td>\n",
       "      <td>...</td>\n",
       "      <td>531.0</td>\n",
       "      <td>3</td>\n",
       "      <td>area_11</td>\n",
       "      <td>6000.000000</td>\n",
       "      <td>2</td>\n",
       "      <td>1</td>\n",
       "      <td>2016</td>\n",
       "      <td>last</td>\n",
       "      <td>0.664000</td>\n",
       "      <td>0.065000</td>\n",
       "    </tr>\n",
       "    <tr>\n",
       "      <th>5893</th>\n",
       "      <td>2017-05-31</td>\n",
       "      <td>50</td>\n",
       "      <td>4600000.0</td>\n",
       "      <td>6</td>\n",
       "      <td>40.0</td>\n",
       "      <td>332.0</td>\n",
       "      <td>500.0</td>\n",
       "      <td>0</td>\n",
       "      <td>NaN</td>\n",
       "      <td>7</td>\n",
       "      <td>...</td>\n",
       "      <td>198.0</td>\n",
       "      <td>2</td>\n",
       "      <td>area_11</td>\n",
       "      <td>9200.000000</td>\n",
       "      <td>2</td>\n",
       "      <td>5</td>\n",
       "      <td>2017</td>\n",
       "      <td>last</td>\n",
       "      <td>0.664000</td>\n",
       "      <td>0.080000</td>\n",
       "    </tr>\n",
       "    <tr>\n",
       "      <th>8018</th>\n",
       "      <td>2015-12-17</td>\n",
       "      <td>1078</td>\n",
       "      <td>1680000.0</td>\n",
       "      <td>5</td>\n",
       "      <td>45.5</td>\n",
       "      <td>301.5</td>\n",
       "      <td>507.0</td>\n",
       "      <td>1</td>\n",
       "      <td>4.45</td>\n",
       "      <td>7</td>\n",
       "      <td>...</td>\n",
       "      <td>NaN</td>\n",
       "      <td>0</td>\n",
       "      <td>area_11</td>\n",
       "      <td>3313.609467</td>\n",
       "      <td>3</td>\n",
       "      <td>12</td>\n",
       "      <td>2015</td>\n",
       "      <td>last</td>\n",
       "      <td>0.594675</td>\n",
       "      <td>0.089744</td>\n",
       "    </tr>\n",
       "    <tr>\n",
       "      <th>4237</th>\n",
       "      <td>2017-10-14</td>\n",
       "      <td>0</td>\n",
       "      <td>1000000.0</td>\n",
       "      <td>7</td>\n",
       "      <td>22.0</td>\n",
       "      <td>332.0</td>\n",
       "      <td>517.0</td>\n",
       "      <td>0</td>\n",
       "      <td>NaN</td>\n",
       "      <td>4</td>\n",
       "      <td>...</td>\n",
       "      <td>540.0</td>\n",
       "      <td>2</td>\n",
       "      <td>area_11</td>\n",
       "      <td>1934.235977</td>\n",
       "      <td>5</td>\n",
       "      <td>10</td>\n",
       "      <td>2017</td>\n",
       "      <td>other</td>\n",
       "      <td>0.642166</td>\n",
       "      <td>0.042553</td>\n",
       "    </tr>\n",
       "    <tr>\n",
       "      <th>5358</th>\n",
       "      <td>2019-02-14</td>\n",
       "      <td>14</td>\n",
       "      <td>1300000.0</td>\n",
       "      <td>15</td>\n",
       "      <td>100.0</td>\n",
       "      <td>409.0</td>\n",
       "      <td>590.0</td>\n",
       "      <td>0</td>\n",
       "      <td>3.50</td>\n",
       "      <td>6</td>\n",
       "      <td>...</td>\n",
       "      <td>NaN</td>\n",
       "      <td>0</td>\n",
       "      <td>area_13</td>\n",
       "      <td>2203.389831</td>\n",
       "      <td>3</td>\n",
       "      <td>2</td>\n",
       "      <td>2019</td>\n",
       "      <td>other</td>\n",
       "      <td>0.693220</td>\n",
       "      <td>0.169492</td>\n",
       "    </tr>\n",
       "    <tr>\n",
       "      <th>15651</th>\n",
       "      <td>2017-12-18</td>\n",
       "      <td>111</td>\n",
       "      <td>6000000.0</td>\n",
       "      <td>7</td>\n",
       "      <td>70.0</td>\n",
       "      <td>258.0</td>\n",
       "      <td>618.0</td>\n",
       "      <td>0</td>\n",
       "      <td>3.40</td>\n",
       "      <td>7</td>\n",
       "      <td>...</td>\n",
       "      <td>198.0</td>\n",
       "      <td>2</td>\n",
       "      <td>area_13</td>\n",
       "      <td>9708.737864</td>\n",
       "      <td>0</td>\n",
       "      <td>12</td>\n",
       "      <td>2017</td>\n",
       "      <td>other</td>\n",
       "      <td>0.417476</td>\n",
       "      <td>0.113269</td>\n",
       "    </tr>\n",
       "    <tr>\n",
       "      <th>3117</th>\n",
       "      <td>2019-03-30</td>\n",
       "      <td>0</td>\n",
       "      <td>2800000.0</td>\n",
       "      <td>7</td>\n",
       "      <td>60.0</td>\n",
       "      <td>322.3</td>\n",
       "      <td>631.0</td>\n",
       "      <td>0</td>\n",
       "      <td>NaN</td>\n",
       "      <td>5</td>\n",
       "      <td>...</td>\n",
       "      <td>210.0</td>\n",
       "      <td>2</td>\n",
       "      <td>area_14</td>\n",
       "      <td>4437.400951</td>\n",
       "      <td>5</td>\n",
       "      <td>3</td>\n",
       "      <td>2019</td>\n",
       "      <td>last</td>\n",
       "      <td>0.510777</td>\n",
       "      <td>0.095087</td>\n",
       "    </tr>\n",
       "    <tr>\n",
       "      <th>12859</th>\n",
       "      <td>2019-04-09</td>\n",
       "      <td>0</td>\n",
       "      <td>2800000.0</td>\n",
       "      <td>7</td>\n",
       "      <td>19.5</td>\n",
       "      <td>322.3</td>\n",
       "      <td>631.2</td>\n",
       "      <td>1</td>\n",
       "      <td>3.90</td>\n",
       "      <td>4</td>\n",
       "      <td>...</td>\n",
       "      <td>210.0</td>\n",
       "      <td>2</td>\n",
       "      <td>area_14</td>\n",
       "      <td>4435.994930</td>\n",
       "      <td>1</td>\n",
       "      <td>4</td>\n",
       "      <td>2019</td>\n",
       "      <td>last</td>\n",
       "      <td>0.510615</td>\n",
       "      <td>0.030894</td>\n",
       "    </tr>\n",
       "    <tr>\n",
       "      <th>19540</th>\n",
       "      <td>2017-12-06</td>\n",
       "      <td>106</td>\n",
       "      <td>8400000.0</td>\n",
       "      <td>12</td>\n",
       "      <td>112.0</td>\n",
       "      <td>409.7</td>\n",
       "      <td>900.0</td>\n",
       "      <td>0</td>\n",
       "      <td>2.80</td>\n",
       "      <td>25</td>\n",
       "      <td>...</td>\n",
       "      <td>318.0</td>\n",
       "      <td>2</td>\n",
       "      <td>area_20</td>\n",
       "      <td>9333.333333</td>\n",
       "      <td>2</td>\n",
       "      <td>12</td>\n",
       "      <td>2017</td>\n",
       "      <td>last</td>\n",
       "      <td>0.455222</td>\n",
       "      <td>0.124444</td>\n",
       "    </tr>\n",
       "  </tbody>\n",
       "</table>\n",
       "<p>10 rows × 30 columns</p>\n",
       "</div>"
      ],
      "text/plain": [
       "      date_posted  days_listed  last_price  bedrooms  kitchen_area  \\\n",
       "12401  2017-06-19           14   1830000.0         7          25.0   \n",
       "15016  2016-01-13          303   3000000.0         4          32.5   \n",
       "5893   2017-05-31           50   4600000.0         6          40.0   \n",
       "8018   2015-12-17         1078   1680000.0         5          45.5   \n",
       "4237   2017-10-14            0   1000000.0         7          22.0   \n",
       "5358   2019-02-14           14   1300000.0        15         100.0   \n",
       "15651  2017-12-18          111   6000000.0         7          70.0   \n",
       "3117   2019-03-30            0   2800000.0         7          60.0   \n",
       "12859  2019-04-09            0   2800000.0         7          19.5   \n",
       "19540  2017-12-06          106   8400000.0        12         112.0   \n",
       "\n",
       "       living_area  total_area  balconies  ceiling_height  floors_total  ...  \\\n",
       "12401        347.5       495.0          0            4.65             7  ...   \n",
       "15016        332.0       500.0          0            3.20             7  ...   \n",
       "5893         332.0       500.0          0             NaN             7  ...   \n",
       "8018         301.5       507.0          1            4.45             7  ...   \n",
       "4237         332.0       517.0          0             NaN             4  ...   \n",
       "5358         409.0       590.0          0            3.50             6  ...   \n",
       "15651        258.0       618.0          0            3.40             7  ...   \n",
       "3117         322.3       631.0          0             NaN             5  ...   \n",
       "12859        322.3       631.2          1            3.90             4  ...   \n",
       "19540        409.7       900.0          0            2.80            25  ...   \n",
       "\n",
       "       pond_dist  ponds_within_3000 area_category     price2sq  day_of_week  \\\n",
       "12401        NaN                  0       area_11  3696.969697            0   \n",
       "15016      531.0                  3       area_11  6000.000000            2   \n",
       "5893       198.0                  2       area_11  9200.000000            2   \n",
       "8018         NaN                  0       area_11  3313.609467            3   \n",
       "4237       540.0                  2       area_11  1934.235977            5   \n",
       "5358         NaN                  0       area_13  2203.389831            3   \n",
       "15651      198.0                  2       area_13  9708.737864            0   \n",
       "3117       210.0                  2       area_14  4437.400951            5   \n",
       "12859      210.0                  2       area_14  4435.994930            1   \n",
       "19540      318.0                  2       area_20  9333.333333            2   \n",
       "\n",
       "      month  year  floor_category  ratio_living_area  ratio_kitchen_area  \n",
       "12401     6  2017             last           0.702020            0.050505  \n",
       "15016     1  2016             last           0.664000            0.065000  \n",
       "5893      5  2017             last           0.664000            0.080000  \n",
       "8018     12  2015             last           0.594675            0.089744  \n",
       "4237     10  2017            other           0.642166            0.042553  \n",
       "5358      2  2019            other           0.693220            0.169492  \n",
       "15651    12  2017            other           0.417476            0.113269  \n",
       "3117      3  2019             last           0.510777            0.095087  \n",
       "12859     4  2019             last           0.510615            0.030894  \n",
       "19540    12  2017             last           0.455222            0.124444  \n",
       "\n",
       "[10 rows x 30 columns]"
      ]
     },
     "execution_count": 169,
     "metadata": {},
     "output_type": "execute_result"
    }
   ],
   "source": [
    "data_real_estate.sort_values('total_area').tail(10)"
   ]
  },
  {
   "cell_type": "markdown",
   "metadata": {},
   "source": [
    "It seems like these high values are correct. It is not a typo because price per square foot varies from 1900 to 9500 and it is OK."
   ]
  },
  {
   "cell_type": "code",
   "execution_count": 170,
   "metadata": {},
   "outputs": [
    {
     "name": "stdout",
     "output_type": "stream",
     "text": [
      "Rate of apartments with area under 200m2 0.99\n"
     ]
    }
   ],
   "source": [
    "# Let's see how many apartments under 200 m^2\n",
    "print('Rate of apartments with area under 200m2 {:.2f}'.format(\n",
    "    data_real_estate.query('total_area < 200').shape[0] / data_real_estate.shape[0]))"
   ]
  },
  {
   "cell_type": "code",
   "execution_count": 171,
   "metadata": {},
   "outputs": [
    {
     "data": {
      "text/plain": [
       "<matplotlib.axes._subplots.AxesSubplot at 0x1b2dea45c88>"
      ]
     },
     "execution_count": 171,
     "metadata": {},
     "output_type": "execute_result"
    },
    {
     "data": {
      "image/png": "[encoded data removed]",
      "text/plain": [
       "<Figure size 432x288 with 1 Axes>"
      ]
     },
     "metadata": {
      "needs_background": "light"
     },
     "output_type": "display_data"
    }
   ],
   "source": [
    "# let's look detailed histogram of total_area excluding extremely values\n",
    "data_real_estate['total_area'].hist(bins=20, range=(0,200))"
   ]
  },
  {
   "cell_type": "markdown",
   "metadata": {},
   "source": [
    "Histogram looks like Poisson distribution. There is a high peak at the begining and a long tail. <br>\n",
    "Not surprising, because *total_area* is a discrete parameter and we record data for some period of time. <br>\n",
    "Most of the values are in the range (37.5, 50.0]. I don't see anomalous values."
   ]
  },
  {
   "cell_type": "code",
   "execution_count": 172,
   "metadata": {},
   "outputs": [
    {
     "data": {
      "text/plain": [
       "<matplotlib.axes._subplots.AxesSubplot at 0x1b2dbf44108>"
      ]
     },
     "execution_count": 172,
     "metadata": {},
     "output_type": "execute_result"
    },
    {
     "data": {
      "image/png": "[encoded data removed]",
      "text/plain": [
       "<Figure size 432x288 with 1 Axes>"
      ]
     },
     "metadata": {
      "needs_background": "light"
     },
     "output_type": "display_data"
    }
   ],
   "source": [
    "# let's look at detailed histogram of total_area excluding extreme values\n",
    "data_real_estate['total_area'].hist(bins=200, range=(0,200))"
   ]
  },
  {
   "cell_type": "markdown",
   "metadata": {},
   "source": [
    "Houses are of typical construction and apartments have typical areas."
   ]
  },
  {
   "cell_type": "markdown",
   "metadata": {},
   "source": [
    "#### Mini-results\n",
    "It seems like extremely high values are correct. Price per square foot varies from 1900 to 9500 and it is OK. <br>\n",
    "Overwhelming majority (99%) of apartments have total area under 200m2. <br>\n",
    "Histogram looks like the Poisson distribution. Most of the values are in the range (37.5, 50.0]."
   ]
  },
  {
   "cell_type": "code",
   "execution_count": 173,
   "metadata": {},
   "outputs": [
    {
     "data": {
      "text/plain": [
       "<matplotlib.axes._subplots.AxesSubplot at 0x1b2d167d7c8>"
      ]
     },
     "execution_count": 173,
     "metadata": {},
     "output_type": "execute_result"
    },
    {
     "data": {
      "image/png": "[encoded data removed]",
      "text/plain": [
       "<Figure size 432x288 with 1 Axes>"
      ]
     },
     "metadata": {
      "needs_background": "light"
     },
     "output_type": "display_data"
    }
   ],
   "source": [
    "# investigate a price\n",
    "data_real_estate['last_price'].hist(bins=100)"
   ]
  },
  {
   "cell_type": "code",
   "execution_count": 174,
   "metadata": {},
   "outputs": [
    {
     "name": "stdout",
     "output_type": "stream",
     "text": [
      "Maximum price is: 15260000.0\n",
      "Apartment with the highest total area has price: 8400000.0\n"
     ]
    }
   ],
   "source": [
    "print('Maximum price is:',data_real_estate['last_price'].max())\n",
    "print('Apartment with the highest total area has price:',\n",
    "      data_real_estate.sort_values('total_area').tail(1)['last_price'].values[0])"
   ]
  },
  {
   "cell_type": "code",
   "execution_count": 175,
   "metadata": {},
   "outputs": [
    {
     "data": {
      "text/html": [
       "<div>\n",
       "<style scoped>\n",
       "    .dataframe tbody tr th:only-of-type {\n",
       "        vertical-align: middle;\n",
       "    }\n",
       "\n",
       "    .dataframe tbody tr th {\n",
       "        vertical-align: top;\n",
       "    }\n",
       "\n",
       "    .dataframe thead th {\n",
       "        text-align: right;\n",
       "    }\n",
       "</style>\n",
       "<table border=\"1\" class=\"dataframe\">\n",
       "  <thead>\n",
       "    <tr style=\"text-align: right;\">\n",
       "      <th></th>\n",
       "      <th>date_posted</th>\n",
       "      <th>days_listed</th>\n",
       "      <th>last_price</th>\n",
       "      <th>bedrooms</th>\n",
       "      <th>kitchen_area</th>\n",
       "      <th>living_area</th>\n",
       "      <th>total_area</th>\n",
       "      <th>balconies</th>\n",
       "      <th>ceiling_height</th>\n",
       "      <th>floors_total</th>\n",
       "      <th>...</th>\n",
       "      <th>pond_dist</th>\n",
       "      <th>ponds_within_3000</th>\n",
       "      <th>area_category</th>\n",
       "      <th>price2sq</th>\n",
       "      <th>day_of_week</th>\n",
       "      <th>month</th>\n",
       "      <th>year</th>\n",
       "      <th>floor_category</th>\n",
       "      <th>ratio_living_area</th>\n",
       "      <th>ratio_kitchen_area</th>\n",
       "    </tr>\n",
       "  </thead>\n",
       "  <tbody>\n",
       "    <tr>\n",
       "      <th>15651</th>\n",
       "      <td>2017-12-18</td>\n",
       "      <td>111</td>\n",
       "      <td>6000000.0</td>\n",
       "      <td>7</td>\n",
       "      <td>70.000</td>\n",
       "      <td>258.0</td>\n",
       "      <td>618.0</td>\n",
       "      <td>0</td>\n",
       "      <td>3.4</td>\n",
       "      <td>7</td>\n",
       "      <td>...</td>\n",
       "      <td>198.0</td>\n",
       "      <td>2</td>\n",
       "      <td>area_13</td>\n",
       "      <td>9708.737864</td>\n",
       "      <td>0</td>\n",
       "      <td>12</td>\n",
       "      <td>2017</td>\n",
       "      <td>other</td>\n",
       "      <td>0.417476</td>\n",
       "      <td>0.113269</td>\n",
       "    </tr>\n",
       "    <tr>\n",
       "      <th>1436</th>\n",
       "      <td>2018-04-04</td>\n",
       "      <td>233</td>\n",
       "      <td>6600000.0</td>\n",
       "      <td>3</td>\n",
       "      <td>40.000</td>\n",
       "      <td>95.0</td>\n",
       "      <td>190.0</td>\n",
       "      <td>0</td>\n",
       "      <td>3.5</td>\n",
       "      <td>7</td>\n",
       "      <td>...</td>\n",
       "      <td>285.0</td>\n",
       "      <td>3</td>\n",
       "      <td>area_4</td>\n",
       "      <td>34736.842105</td>\n",
       "      <td>2</td>\n",
       "      <td>4</td>\n",
       "      <td>2018</td>\n",
       "      <td>other</td>\n",
       "      <td>0.500000</td>\n",
       "      <td>0.210526</td>\n",
       "    </tr>\n",
       "    <tr>\n",
       "      <th>14706</th>\n",
       "      <td>2016-02-20</td>\n",
       "      <td>393</td>\n",
       "      <td>8026000.0</td>\n",
       "      <td>5</td>\n",
       "      <td>24.000</td>\n",
       "      <td>204.0</td>\n",
       "      <td>401.0</td>\n",
       "      <td>3</td>\n",
       "      <td>NaN</td>\n",
       "      <td>9</td>\n",
       "      <td>...</td>\n",
       "      <td>478.0</td>\n",
       "      <td>1</td>\n",
       "      <td>area_8</td>\n",
       "      <td>20014.962594</td>\n",
       "      <td>5</td>\n",
       "      <td>2</td>\n",
       "      <td>2016</td>\n",
       "      <td>last</td>\n",
       "      <td>0.508728</td>\n",
       "      <td>0.059850</td>\n",
       "    </tr>\n",
       "    <tr>\n",
       "      <th>19540</th>\n",
       "      <td>2017-12-06</td>\n",
       "      <td>106</td>\n",
       "      <td>8400000.0</td>\n",
       "      <td>12</td>\n",
       "      <td>112.000</td>\n",
       "      <td>409.7</td>\n",
       "      <td>900.0</td>\n",
       "      <td>0</td>\n",
       "      <td>2.8</td>\n",
       "      <td>25</td>\n",
       "      <td>...</td>\n",
       "      <td>318.0</td>\n",
       "      <td>2</td>\n",
       "      <td>area_20</td>\n",
       "      <td>9333.333333</td>\n",
       "      <td>2</td>\n",
       "      <td>12</td>\n",
       "      <td>2017</td>\n",
       "      <td>last</td>\n",
       "      <td>0.455222</td>\n",
       "      <td>0.124444</td>\n",
       "    </tr>\n",
       "    <tr>\n",
       "      <th>12971</th>\n",
       "      <td>2017-09-30</td>\n",
       "      <td>33</td>\n",
       "      <td>15260000.0</td>\n",
       "      <td>7</td>\n",
       "      <td>34.365</td>\n",
       "      <td>250.0</td>\n",
       "      <td>400.0</td>\n",
       "      <td>2</td>\n",
       "      <td>NaN</td>\n",
       "      <td>10</td>\n",
       "      <td>...</td>\n",
       "      <td>756.0</td>\n",
       "      <td>3</td>\n",
       "      <td>area_8</td>\n",
       "      <td>38150.000000</td>\n",
       "      <td>5</td>\n",
       "      <td>9</td>\n",
       "      <td>2017</td>\n",
       "      <td>last</td>\n",
       "      <td>0.625000</td>\n",
       "      <td>0.085913</td>\n",
       "    </tr>\n",
       "  </tbody>\n",
       "</table>\n",
       "<p>5 rows × 30 columns</p>\n",
       "</div>"
      ],
      "text/plain": [
       "      date_posted  days_listed  last_price  bedrooms  kitchen_area  \\\n",
       "15651  2017-12-18          111   6000000.0         7        70.000   \n",
       "1436   2018-04-04          233   6600000.0         3        40.000   \n",
       "14706  2016-02-20          393   8026000.0         5        24.000   \n",
       "19540  2017-12-06          106   8400000.0        12       112.000   \n",
       "12971  2017-09-30           33  15260000.0         7        34.365   \n",
       "\n",
       "       living_area  total_area  balconies  ceiling_height  floors_total  ...  \\\n",
       "15651        258.0       618.0          0             3.4             7  ...   \n",
       "1436          95.0       190.0          0             3.5             7  ...   \n",
       "14706        204.0       401.0          3             NaN             9  ...   \n",
       "19540        409.7       900.0          0             2.8            25  ...   \n",
       "12971        250.0       400.0          2             NaN            10  ...   \n",
       "\n",
       "       pond_dist  ponds_within_3000 area_category      price2sq  day_of_week  \\\n",
       "15651      198.0                  2       area_13   9708.737864            0   \n",
       "1436       285.0                  3        area_4  34736.842105            2   \n",
       "14706      478.0                  1        area_8  20014.962594            5   \n",
       "19540      318.0                  2       area_20   9333.333333            2   \n",
       "12971      756.0                  3        area_8  38150.000000            5   \n",
       "\n",
       "      month  year  floor_category  ratio_living_area  ratio_kitchen_area  \n",
       "15651    12  2017            other           0.417476            0.113269  \n",
       "1436      4  2018            other           0.500000            0.210526  \n",
       "14706     2  2016             last           0.508728            0.059850  \n",
       "19540    12  2017             last           0.455222            0.124444  \n",
       "12971     9  2017             last           0.625000            0.085913  \n",
       "\n",
       "[5 rows x 30 columns]"
      ]
     },
     "execution_count": 175,
     "metadata": {},
     "output_type": "execute_result"
    }
   ],
   "source": [
    "# It is unbelievable that maximum price nearly two times higher than the price of apartment with the greatest total area\n",
    "data_real_estate.sort_values('last_price').tail()"
   ]
  },
  {
   "cell_type": "code",
   "execution_count": 176,
   "metadata": {},
   "outputs": [
    {
     "name": "stdout",
     "output_type": "stream",
     "text": [
      "Price per square for this extra expensive apartment is : 38150.0 . It is too high.\n",
      "Median value Price per square is: 1900.0\n",
      "Average value Price per square is: 1988.4\n"
     ]
    }
   ],
   "source": [
    "# I think the real price is 1 526 000 rather than  15 260 000. \n",
    "print('Price per square for this extra expensive apartment is :',\n",
    "      data_real_estate.sort_values('last_price').tail(1)['price2sq'].values[0],\n",
    "     '. It is too high.')\n",
    "print('Median value Price per square is:',data_real_estate['price2sq'].median())\n",
    "print('Average value Price per square is: {:.1f}'.format(data_real_estate['price2sq'].mean()))"
   ]
  },
  {
   "cell_type": "code",
   "execution_count": 177,
   "metadata": {},
   "outputs": [
    {
     "data": {
      "text/plain": [
       "<matplotlib.axes._subplots.AxesSubplot at 0x1b2de1c7c88>"
      ]
     },
     "execution_count": 177,
     "metadata": {},
     "output_type": "execute_result"
    },
    {
     "data": {
      "image/png": "[encoded data removed]",
      "text/plain": [
       "<Figure size 432x288 with 1 Axes>"
      ]
     },
     "metadata": {
      "needs_background": "light"
     },
     "output_type": "display_data"
    }
   ],
   "source": [
    "data_real_estate['last_price'].hist(bins=100, range=[0, 1e6])"
   ]
  },
  {
   "cell_type": "code",
   "execution_count": 178,
   "metadata": {},
   "outputs": [
    {
     "data": {
      "text/plain": [
       "<matplotlib.axes._subplots.AxesSubplot at 0x1b2de8168c8>"
      ]
     },
     "execution_count": 178,
     "metadata": {},
     "output_type": "execute_result"
    },
    {
     "data": {
      "image/png": "[encoded data removed]",
      "text/plain": [
       "<Figure size 432x288 with 1 Axes>"
      ]
     },
     "metadata": {
      "needs_background": "light"
     },
     "output_type": "display_data"
    }
   ],
   "source": [
    "data_real_estate['last_price'].hist(bins=100, range=[0, 4e5])"
   ]
  },
  {
   "cell_type": "markdown",
   "metadata": {},
   "source": [
    "#### Mini-results\n",
    "I think I should clear data with this extraordinary prices. The best way to filter data by price per square unit <br>"
   ]
  },
  {
   "cell_type": "code",
   "execution_count": 179,
   "metadata": {},
   "outputs": [
    {
     "name": "stdout",
     "output_type": "stream",
     "text": [
      "Maximum number of rooms is: 19\n"
     ]
    }
   ],
   "source": [
    "# number of rooms\n",
    "print('Maximum number of rooms is:',data_real_estate['bedrooms'].max())"
   ]
  },
  {
   "cell_type": "code",
   "execution_count": 180,
   "metadata": {},
   "outputs": [
    {
     "data": {
      "text/html": [
       "<div>\n",
       "<style scoped>\n",
       "    .dataframe tbody tr th:only-of-type {\n",
       "        vertical-align: middle;\n",
       "    }\n",
       "\n",
       "    .dataframe tbody tr th {\n",
       "        vertical-align: top;\n",
       "    }\n",
       "\n",
       "    .dataframe thead th {\n",
       "        text-align: right;\n",
       "    }\n",
       "</style>\n",
       "<table border=\"1\" class=\"dataframe\">\n",
       "  <thead>\n",
       "    <tr style=\"text-align: right;\">\n",
       "      <th></th>\n",
       "      <th>date_posted</th>\n",
       "      <th>days_listed</th>\n",
       "      <th>last_price</th>\n",
       "      <th>bedrooms</th>\n",
       "      <th>kitchen_area</th>\n",
       "      <th>living_area</th>\n",
       "      <th>total_area</th>\n",
       "      <th>balconies</th>\n",
       "      <th>ceiling_height</th>\n",
       "      <th>floors_total</th>\n",
       "      <th>...</th>\n",
       "      <th>pond_dist</th>\n",
       "      <th>ponds_within_3000</th>\n",
       "      <th>area_category</th>\n",
       "      <th>price2sq</th>\n",
       "      <th>day_of_week</th>\n",
       "      <th>month</th>\n",
       "      <th>year</th>\n",
       "      <th>floor_category</th>\n",
       "      <th>ratio_living_area</th>\n",
       "      <th>ratio_kitchen_area</th>\n",
       "    </tr>\n",
       "  </thead>\n",
       "  <tbody>\n",
       "    <tr>\n",
       "      <th>20829</th>\n",
       "      <td>2016-03-31</td>\n",
       "      <td>95</td>\n",
       "      <td>573180.0</td>\n",
       "      <td>14</td>\n",
       "      <td>25.900</td>\n",
       "      <td>168.3</td>\n",
       "      <td>245.4</td>\n",
       "      <td>0</td>\n",
       "      <td>NaN</td>\n",
       "      <td>4</td>\n",
       "      <td>...</td>\n",
       "      <td>118.0</td>\n",
       "      <td>2</td>\n",
       "      <td>area_5</td>\n",
       "      <td>2335.696822</td>\n",
       "      <td>3</td>\n",
       "      <td>3</td>\n",
       "      <td>2016</td>\n",
       "      <td>other</td>\n",
       "      <td>0.685819</td>\n",
       "      <td>0.105542</td>\n",
       "    </tr>\n",
       "    <tr>\n",
       "      <th>5358</th>\n",
       "      <td>2019-02-14</td>\n",
       "      <td>14</td>\n",
       "      <td>1300000.0</td>\n",
       "      <td>15</td>\n",
       "      <td>100.000</td>\n",
       "      <td>409.0</td>\n",
       "      <td>590.0</td>\n",
       "      <td>0</td>\n",
       "      <td>3.50</td>\n",
       "      <td>6</td>\n",
       "      <td>...</td>\n",
       "      <td>NaN</td>\n",
       "      <td>0</td>\n",
       "      <td>area_13</td>\n",
       "      <td>2203.389831</td>\n",
       "      <td>3</td>\n",
       "      <td>2</td>\n",
       "      <td>2019</td>\n",
       "      <td>other</td>\n",
       "      <td>0.693220</td>\n",
       "      <td>0.169492</td>\n",
       "    </tr>\n",
       "    <tr>\n",
       "      <th>18848</th>\n",
       "      <td>2015-03-02</td>\n",
       "      <td>1365</td>\n",
       "      <td>570000.0</td>\n",
       "      <td>16</td>\n",
       "      <td>13.000</td>\n",
       "      <td>180.0</td>\n",
       "      <td>270.0</td>\n",
       "      <td>1</td>\n",
       "      <td>3.00</td>\n",
       "      <td>4</td>\n",
       "      <td>...</td>\n",
       "      <td>NaN</td>\n",
       "      <td>0</td>\n",
       "      <td>area_6</td>\n",
       "      <td>2111.111111</td>\n",
       "      <td>0</td>\n",
       "      <td>3</td>\n",
       "      <td>2015</td>\n",
       "      <td>last</td>\n",
       "      <td>0.666667</td>\n",
       "      <td>0.048148</td>\n",
       "    </tr>\n",
       "    <tr>\n",
       "      <th>19392</th>\n",
       "      <td>2018-07-26</td>\n",
       "      <td>90</td>\n",
       "      <td>1420000.0</td>\n",
       "      <td>19</td>\n",
       "      <td>34.365</td>\n",
       "      <td>222.0</td>\n",
       "      <td>371.0</td>\n",
       "      <td>0</td>\n",
       "      <td>3.57</td>\n",
       "      <td>7</td>\n",
       "      <td>...</td>\n",
       "      <td>584.0</td>\n",
       "      <td>1</td>\n",
       "      <td>area_8</td>\n",
       "      <td>3827.493261</td>\n",
       "      <td>3</td>\n",
       "      <td>7</td>\n",
       "      <td>2018</td>\n",
       "      <td>other</td>\n",
       "      <td>0.598383</td>\n",
       "      <td>0.092628</td>\n",
       "    </tr>\n",
       "    <tr>\n",
       "      <th>14498</th>\n",
       "      <td>2018-06-09</td>\n",
       "      <td>114</td>\n",
       "      <td>645000.0</td>\n",
       "      <td>19</td>\n",
       "      <td>27.600</td>\n",
       "      <td>264.5</td>\n",
       "      <td>374.6</td>\n",
       "      <td>0</td>\n",
       "      <td>NaN</td>\n",
       "      <td>5</td>\n",
       "      <td>...</td>\n",
       "      <td>548.0</td>\n",
       "      <td>2</td>\n",
       "      <td>area_8</td>\n",
       "      <td>1721.836626</td>\n",
       "      <td>5</td>\n",
       "      <td>6</td>\n",
       "      <td>2018</td>\n",
       "      <td>other</td>\n",
       "      <td>0.706086</td>\n",
       "      <td>0.073679</td>\n",
       "    </tr>\n",
       "  </tbody>\n",
       "</table>\n",
       "<p>5 rows × 30 columns</p>\n",
       "</div>"
      ],
      "text/plain": [
       "      date_posted  days_listed  last_price  bedrooms  kitchen_area  \\\n",
       "20829  2016-03-31           95    573180.0        14        25.900   \n",
       "5358   2019-02-14           14   1300000.0        15       100.000   \n",
       "18848  2015-03-02         1365    570000.0        16        13.000   \n",
       "19392  2018-07-26           90   1420000.0        19        34.365   \n",
       "14498  2018-06-09          114    645000.0        19        27.600   \n",
       "\n",
       "       living_area  total_area  balconies  ceiling_height  floors_total  ...  \\\n",
       "20829        168.3       245.4          0             NaN             4  ...   \n",
       "5358         409.0       590.0          0            3.50             6  ...   \n",
       "18848        180.0       270.0          1            3.00             4  ...   \n",
       "19392        222.0       371.0          0            3.57             7  ...   \n",
       "14498        264.5       374.6          0             NaN             5  ...   \n",
       "\n",
       "       pond_dist  ponds_within_3000 area_category     price2sq  day_of_week  \\\n",
       "20829      118.0                  2        area_5  2335.696822            3   \n",
       "5358         NaN                  0       area_13  2203.389831            3   \n",
       "18848        NaN                  0        area_6  2111.111111            0   \n",
       "19392      584.0                  1        area_8  3827.493261            3   \n",
       "14498      548.0                  2        area_8  1721.836626            5   \n",
       "\n",
       "      month  year  floor_category  ratio_living_area  ratio_kitchen_area  \n",
       "20829     3  2016            other           0.685819            0.105542  \n",
       "5358      2  2019            other           0.693220            0.169492  \n",
       "18848     3  2015             last           0.666667            0.048148  \n",
       "19392     7  2018            other           0.598383            0.092628  \n",
       "14498     6  2018            other           0.706086            0.073679  \n",
       "\n",
       "[5 rows x 30 columns]"
      ]
     },
     "execution_count": 180,
     "metadata": {},
     "output_type": "execute_result"
    }
   ],
   "source": [
    "data_real_estate.sort_values('bedrooms').tail()"
   ]
  },
  {
   "cell_type": "code",
   "execution_count": 181,
   "metadata": {
    "scrolled": false
   },
   "outputs": [
    {
     "data": {
      "text/plain": [
       "<matplotlib.axes._subplots.AxesSubplot at 0x1b2ca76ef48>"
      ]
     },
     "execution_count": 181,
     "metadata": {},
     "output_type": "execute_result"
    },
    {
     "data": {
      "image/png": "[encoded data removed]",
      "text/plain": [
       "<Figure size 432x288 with 1 Axes>"
      ]
     },
     "metadata": {
      "needs_background": "light"
     },
     "output_type": "display_data"
    }
   ],
   "source": [
    "# histogram\n",
    "data_real_estate['bedrooms'].hist(bins=19,range=[0,19])"
   ]
  },
  {
   "cell_type": "code",
   "execution_count": 182,
   "metadata": {},
   "outputs": [
    {
     "data": {
      "text/plain": [
       "<matplotlib.axes._subplots.AxesSubplot at 0x1b2def75308>"
      ]
     },
     "execution_count": 182,
     "metadata": {},
     "output_type": "execute_result"
    },
    {
     "data": {
      "image/png": "[encoded data removed]",
      "text/plain": [
       "<Figure size 432x288 with 1 Axes>"
      ]
     },
     "metadata": {
      "needs_background": "light"
     },
     "output_type": "display_data"
    }
   ],
   "source": [
    "# histogram\n",
    "data_real_estate['bedrooms'].hist(bins=10,range=[0,10])"
   ]
  },
  {
   "cell_type": "markdown",
   "metadata": {},
   "source": [
    "#### Mini-results\n",
    "I don't see something special. The most representative number of rooms are 1, 2 and 3. I expected to see such result. <br>"
   ]
  },
  {
   "cell_type": "code",
   "execution_count": 183,
   "metadata": {},
   "outputs": [
    {
     "name": "stdout",
     "output_type": "stream",
     "text": [
      "Minimum ceiling height is: 1.0\n"
     ]
    }
   ],
   "source": [
    "# ceiling height\n",
    "print('Minimum ceiling height is:',data_real_estate['ceiling_height'].min())"
   ]
  },
  {
   "cell_type": "markdown",
   "metadata": {},
   "source": [
    "I know this guys https://en.wikipedia.org/wiki/Hobbit :) But I think they live in New Zeland not Saint Petersburg.\n",
    "It must be a mistake or typo."
   ]
  },
  {
   "cell_type": "code",
   "execution_count": 184,
   "metadata": {},
   "outputs": [
    {
     "name": "stdout",
     "output_type": "stream",
     "text": [
      "Maximum ceiling height is: 100.0\n"
     ]
    }
   ],
   "source": [
    "print('Maximum ceiling height is:',data_real_estate['ceiling_height'].max())"
   ]
  },
  {
   "cell_type": "markdown",
   "metadata": {},
   "source": [
    "Without any doubts ents found their houses. https://en.wikipedia.org/wiki/Ent. :)\n",
    "It is a mistake or typo."
   ]
  },
  {
   "cell_type": "code",
   "execution_count": 185,
   "metadata": {
    "scrolled": true
   },
   "outputs": [
    {
     "name": "stdout",
     "output_type": "stream",
     "text": [
      "Median ceiling height: 2.65\n",
      "Average ceiling height: 2.77\n"
     ]
    }
   ],
   "source": [
    "print('Median ceiling height:',data_real_estate['ceiling_height'].median())\n",
    "print('Average ceiling height: {:.2f}'.format(data_real_estate['ceiling_height'].mean()))"
   ]
  },
  {
   "cell_type": "code",
   "execution_count": 186,
   "metadata": {
    "scrolled": false
   },
   "outputs": [
    {
     "data": {
      "text/html": [
       "<div>\n",
       "<style scoped>\n",
       "    .dataframe tbody tr th:only-of-type {\n",
       "        vertical-align: middle;\n",
       "    }\n",
       "\n",
       "    .dataframe tbody tr th {\n",
       "        vertical-align: top;\n",
       "    }\n",
       "\n",
       "    .dataframe thead th {\n",
       "        text-align: right;\n",
       "    }\n",
       "</style>\n",
       "<table border=\"1\" class=\"dataframe\">\n",
       "  <thead>\n",
       "    <tr style=\"text-align: right;\">\n",
       "      <th></th>\n",
       "      <th>date_posted</th>\n",
       "      <th>days_listed</th>\n",
       "      <th>last_price</th>\n",
       "      <th>bedrooms</th>\n",
       "      <th>kitchen_area</th>\n",
       "      <th>living_area</th>\n",
       "      <th>total_area</th>\n",
       "      <th>balconies</th>\n",
       "      <th>ceiling_height</th>\n",
       "      <th>floors_total</th>\n",
       "      <th>...</th>\n",
       "      <th>pond_dist</th>\n",
       "      <th>ponds_within_3000</th>\n",
       "      <th>area_category</th>\n",
       "      <th>price2sq</th>\n",
       "      <th>day_of_week</th>\n",
       "      <th>month</th>\n",
       "      <th>year</th>\n",
       "      <th>floor_category</th>\n",
       "      <th>ratio_living_area</th>\n",
       "      <th>ratio_kitchen_area</th>\n",
       "    </tr>\n",
       "  </thead>\n",
       "  <tbody>\n",
       "    <tr>\n",
       "      <th>22869</th>\n",
       "      <td>2018-07-25</td>\n",
       "      <td>19</td>\n",
       "      <td>300000.0</td>\n",
       "      <td>1</td>\n",
       "      <td>11.0</td>\n",
       "      <td>14.0</td>\n",
       "      <td>25.0</td>\n",
       "      <td>5</td>\n",
       "      <td>100.0</td>\n",
       "      <td>5</td>\n",
       "      <td>...</td>\n",
       "      <td>30.0</td>\n",
       "      <td>3</td>\n",
       "      <td>area_0</td>\n",
       "      <td>12000.000000</td>\n",
       "      <td>2</td>\n",
       "      <td>7</td>\n",
       "      <td>2018</td>\n",
       "      <td>last</td>\n",
       "      <td>0.560000</td>\n",
       "      <td>0.440000</td>\n",
       "    </tr>\n",
       "    <tr>\n",
       "      <th>22336</th>\n",
       "      <td>2019-04-05</td>\n",
       "      <td>0</td>\n",
       "      <td>199980.0</td>\n",
       "      <td>2</td>\n",
       "      <td>16.5</td>\n",
       "      <td>55.5</td>\n",
       "      <td>92.4</td>\n",
       "      <td>4</td>\n",
       "      <td>32.0</td>\n",
       "      <td>6</td>\n",
       "      <td>...</td>\n",
       "      <td>511.0</td>\n",
       "      <td>3</td>\n",
       "      <td>area_2</td>\n",
       "      <td>2164.285714</td>\n",
       "      <td>4</td>\n",
       "      <td>4</td>\n",
       "      <td>2019</td>\n",
       "      <td>other</td>\n",
       "      <td>0.600649</td>\n",
       "      <td>0.178571</td>\n",
       "    </tr>\n",
       "    <tr>\n",
       "      <th>3148</th>\n",
       "      <td>2018-11-12</td>\n",
       "      <td>0</td>\n",
       "      <td>58000.0</td>\n",
       "      <td>3</td>\n",
       "      <td>8.0</td>\n",
       "      <td>53.0</td>\n",
       "      <td>75.0</td>\n",
       "      <td>0</td>\n",
       "      <td>32.0</td>\n",
       "      <td>3</td>\n",
       "      <td>...</td>\n",
       "      <td>NaN</td>\n",
       "      <td>10</td>\n",
       "      <td>area_1</td>\n",
       "      <td>773.333333</td>\n",
       "      <td>0</td>\n",
       "      <td>11</td>\n",
       "      <td>2018</td>\n",
       "      <td>other</td>\n",
       "      <td>0.706667</td>\n",
       "      <td>0.106667</td>\n",
       "    </tr>\n",
       "    <tr>\n",
       "      <th>21377</th>\n",
       "      <td>2017-04-18</td>\n",
       "      <td>61</td>\n",
       "      <td>98000.0</td>\n",
       "      <td>1</td>\n",
       "      <td>11.0</td>\n",
       "      <td>37.7</td>\n",
       "      <td>42.0</td>\n",
       "      <td>2</td>\n",
       "      <td>27.5</td>\n",
       "      <td>24</td>\n",
       "      <td>...</td>\n",
       "      <td>NaN</td>\n",
       "      <td>0</td>\n",
       "      <td>area_0</td>\n",
       "      <td>2333.333333</td>\n",
       "      <td>1</td>\n",
       "      <td>4</td>\n",
       "      <td>2017</td>\n",
       "      <td>other</td>\n",
       "      <td>0.897619</td>\n",
       "      <td>0.261905</td>\n",
       "    </tr>\n",
       "    <tr>\n",
       "      <th>20478</th>\n",
       "      <td>2017-07-18</td>\n",
       "      <td>429</td>\n",
       "      <td>160000.0</td>\n",
       "      <td>1</td>\n",
       "      <td>10.0</td>\n",
       "      <td>22.0</td>\n",
       "      <td>45.0</td>\n",
       "      <td>1</td>\n",
       "      <td>27.0</td>\n",
       "      <td>4</td>\n",
       "      <td>...</td>\n",
       "      <td>449.0</td>\n",
       "      <td>3</td>\n",
       "      <td>area_1</td>\n",
       "      <td>3555.555556</td>\n",
       "      <td>1</td>\n",
       "      <td>7</td>\n",
       "      <td>2017</td>\n",
       "      <td>other</td>\n",
       "      <td>0.488889</td>\n",
       "      <td>0.222222</td>\n",
       "    </tr>\n",
       "  </tbody>\n",
       "</table>\n",
       "<p>5 rows × 30 columns</p>\n",
       "</div>"
      ],
      "text/plain": [
       "      date_posted  days_listed  last_price  bedrooms  kitchen_area  \\\n",
       "22869  2018-07-25           19    300000.0         1          11.0   \n",
       "22336  2019-04-05            0    199980.0         2          16.5   \n",
       "3148   2018-11-12            0     58000.0         3           8.0   \n",
       "21377  2017-04-18           61     98000.0         1          11.0   \n",
       "20478  2017-07-18          429    160000.0         1          10.0   \n",
       "\n",
       "       living_area  total_area  balconies  ceiling_height  floors_total  ...  \\\n",
       "22869         14.0        25.0          5           100.0             5  ...   \n",
       "22336         55.5        92.4          4            32.0             6  ...   \n",
       "3148          53.0        75.0          0            32.0             3  ...   \n",
       "21377         37.7        42.0          2            27.5            24  ...   \n",
       "20478         22.0        45.0          1            27.0             4  ...   \n",
       "\n",
       "       pond_dist  ponds_within_3000 area_category      price2sq  day_of_week  \\\n",
       "22869       30.0                  3        area_0  12000.000000            2   \n",
       "22336      511.0                  3        area_2   2164.285714            4   \n",
       "3148         NaN                 10        area_1    773.333333            0   \n",
       "21377        NaN                  0        area_0   2333.333333            1   \n",
       "20478      449.0                  3        area_1   3555.555556            1   \n",
       "\n",
       "      month  year  floor_category  ratio_living_area  ratio_kitchen_area  \n",
       "22869     7  2018             last           0.560000            0.440000  \n",
       "22336     4  2019            other           0.600649            0.178571  \n",
       "3148     11  2018            other           0.706667            0.106667  \n",
       "21377     4  2017            other           0.897619            0.261905  \n",
       "20478     7  2017            other           0.488889            0.222222  \n",
       "\n",
       "[5 rows x 30 columns]"
      ]
     },
     "execution_count": 186,
     "metadata": {},
     "output_type": "execute_result"
    }
   ],
   "source": [
    "data_real_estate.query('ceiling_height == ceiling_height').sort_values('ceiling_height', ascending=False).head()"
   ]
  },
  {
   "cell_type": "markdown",
   "metadata": {},
   "source": [
    "More likely 27.5 could be 2.75; 27.0 could be 2.7. It is true especially since these apartments have typical total areas for 1-room apartments. <br>\n",
    "I will update this data using apply()."
   ]
  },
  {
   "cell_type": "code",
   "execution_count": 187,
   "metadata": {
    "scrolled": true
   },
   "outputs": [],
   "source": [
    "def ceiling_height_update(row):\n",
    "    ceiling_height = row['ceiling_height']\n",
    "    if ceiling_height == 32.0:\n",
    "        return 3.20\n",
    "    elif ceiling_height == 27.5:\n",
    "        return 2.75\n",
    "    elif ceiling_height == 27.0:\n",
    "        return 2.70\n",
    "    elif ceiling_height == 26.5:\n",
    "        return 2.65\n",
    "    elif ceiling_height == 26.0:\n",
    "        return 2.60\n",
    "    elif ceiling_height == 25.0:\n",
    "        return 2.50\n",
    "    elif ceiling_height == 24.0:\n",
    "        return 2.40\n",
    "    else:\n",
    "        return ceiling_height"
   ]
  },
  {
   "cell_type": "code",
   "execution_count": 188,
   "metadata": {},
   "outputs": [],
   "source": [
    "data_real_estate['ceiling_height']=data_real_estate.apply(ceiling_height_update, axis=1)"
   ]
  },
  {
   "cell_type": "code",
   "execution_count": 189,
   "metadata": {},
   "outputs": [
    {
     "data": {
      "text/html": [
       "<div>\n",
       "<style scoped>\n",
       "    .dataframe tbody tr th:only-of-type {\n",
       "        vertical-align: middle;\n",
       "    }\n",
       "\n",
       "    .dataframe tbody tr th {\n",
       "        vertical-align: top;\n",
       "    }\n",
       "\n",
       "    .dataframe thead th {\n",
       "        text-align: right;\n",
       "    }\n",
       "</style>\n",
       "<table border=\"1\" class=\"dataframe\">\n",
       "  <thead>\n",
       "    <tr style=\"text-align: right;\">\n",
       "      <th></th>\n",
       "      <th>date_posted</th>\n",
       "      <th>days_listed</th>\n",
       "      <th>last_price</th>\n",
       "      <th>bedrooms</th>\n",
       "      <th>kitchen_area</th>\n",
       "      <th>living_area</th>\n",
       "      <th>total_area</th>\n",
       "      <th>balconies</th>\n",
       "      <th>ceiling_height</th>\n",
       "      <th>floors_total</th>\n",
       "      <th>...</th>\n",
       "      <th>pond_dist</th>\n",
       "      <th>ponds_within_3000</th>\n",
       "      <th>area_category</th>\n",
       "      <th>price2sq</th>\n",
       "      <th>day_of_week</th>\n",
       "      <th>month</th>\n",
       "      <th>year</th>\n",
       "      <th>floor_category</th>\n",
       "      <th>ratio_living_area</th>\n",
       "      <th>ratio_kitchen_area</th>\n",
       "    </tr>\n",
       "  </thead>\n",
       "  <tbody>\n",
       "    <tr>\n",
       "      <th>22869</th>\n",
       "      <td>2018-07-25</td>\n",
       "      <td>19</td>\n",
       "      <td>300000.0</td>\n",
       "      <td>1</td>\n",
       "      <td>11.0</td>\n",
       "      <td>14.0</td>\n",
       "      <td>25.0</td>\n",
       "      <td>5</td>\n",
       "      <td>100.0</td>\n",
       "      <td>5</td>\n",
       "      <td>...</td>\n",
       "      <td>30.0</td>\n",
       "      <td>3</td>\n",
       "      <td>area_0</td>\n",
       "      <td>12000.000000</td>\n",
       "      <td>2</td>\n",
       "      <td>7</td>\n",
       "      <td>2018</td>\n",
       "      <td>last</td>\n",
       "      <td>0.560000</td>\n",
       "      <td>0.440000</td>\n",
       "    </tr>\n",
       "    <tr>\n",
       "      <th>20507</th>\n",
       "      <td>2018-02-19</td>\n",
       "      <td>40</td>\n",
       "      <td>119000.0</td>\n",
       "      <td>2</td>\n",
       "      <td>13.0</td>\n",
       "      <td>35.0</td>\n",
       "      <td>60.0</td>\n",
       "      <td>1</td>\n",
       "      <td>22.6</td>\n",
       "      <td>14</td>\n",
       "      <td>...</td>\n",
       "      <td>NaN</td>\n",
       "      <td>0</td>\n",
       "      <td>area_1</td>\n",
       "      <td>1983.333333</td>\n",
       "      <td>0</td>\n",
       "      <td>2</td>\n",
       "      <td>2018</td>\n",
       "      <td>other</td>\n",
       "      <td>0.583333</td>\n",
       "      <td>0.216667</td>\n",
       "    </tr>\n",
       "    <tr>\n",
       "      <th>17496</th>\n",
       "      <td>2019-02-19</td>\n",
       "      <td>0</td>\n",
       "      <td>134000.0</td>\n",
       "      <td>3</td>\n",
       "      <td>12.0</td>\n",
       "      <td>53.2</td>\n",
       "      <td>92.9</td>\n",
       "      <td>5</td>\n",
       "      <td>20.0</td>\n",
       "      <td>17</td>\n",
       "      <td>...</td>\n",
       "      <td>NaN</td>\n",
       "      <td>0</td>\n",
       "      <td>area_2</td>\n",
       "      <td>1442.411195</td>\n",
       "      <td>1</td>\n",
       "      <td>2</td>\n",
       "      <td>2019</td>\n",
       "      <td>other</td>\n",
       "      <td>0.572659</td>\n",
       "      <td>0.129171</td>\n",
       "    </tr>\n",
       "    <tr>\n",
       "      <th>15061</th>\n",
       "      <td>2018-05-11</td>\n",
       "      <td>315</td>\n",
       "      <td>112000.0</td>\n",
       "      <td>2</td>\n",
       "      <td>9.1</td>\n",
       "      <td>32.4</td>\n",
       "      <td>56.4</td>\n",
       "      <td>2</td>\n",
       "      <td>14.0</td>\n",
       "      <td>14</td>\n",
       "      <td>...</td>\n",
       "      <td>NaN</td>\n",
       "      <td>0</td>\n",
       "      <td>area_1</td>\n",
       "      <td>1985.815603</td>\n",
       "      <td>4</td>\n",
       "      <td>5</td>\n",
       "      <td>2018</td>\n",
       "      <td>other</td>\n",
       "      <td>0.574468</td>\n",
       "      <td>0.161348</td>\n",
       "    </tr>\n",
       "    <tr>\n",
       "      <th>22309</th>\n",
       "      <td>2017-09-30</td>\n",
       "      <td>136</td>\n",
       "      <td>106000.0</td>\n",
       "      <td>1</td>\n",
       "      <td>9.0</td>\n",
       "      <td>15.5</td>\n",
       "      <td>45.0</td>\n",
       "      <td>0</td>\n",
       "      <td>10.3</td>\n",
       "      <td>16</td>\n",
       "      <td>...</td>\n",
       "      <td>450.0</td>\n",
       "      <td>2</td>\n",
       "      <td>area_1</td>\n",
       "      <td>2355.555556</td>\n",
       "      <td>5</td>\n",
       "      <td>9</td>\n",
       "      <td>2017</td>\n",
       "      <td>other</td>\n",
       "      <td>0.344444</td>\n",
       "      <td>0.200000</td>\n",
       "    </tr>\n",
       "  </tbody>\n",
       "</table>\n",
       "<p>5 rows × 30 columns</p>\n",
       "</div>"
      ],
      "text/plain": [
       "      date_posted  days_listed  last_price  bedrooms  kitchen_area  \\\n",
       "22869  2018-07-25           19    300000.0         1          11.0   \n",
       "20507  2018-02-19           40    119000.0         2          13.0   \n",
       "17496  2019-02-19            0    134000.0         3          12.0   \n",
       "15061  2018-05-11          315    112000.0         2           9.1   \n",
       "22309  2017-09-30          136    106000.0         1           9.0   \n",
       "\n",
       "       living_area  total_area  balconies  ceiling_height  floors_total  ...  \\\n",
       "22869         14.0        25.0          5           100.0             5  ...   \n",
       "20507         35.0        60.0          1            22.6            14  ...   \n",
       "17496         53.2        92.9          5            20.0            17  ...   \n",
       "15061         32.4        56.4          2            14.0            14  ...   \n",
       "22309         15.5        45.0          0            10.3            16  ...   \n",
       "\n",
       "       pond_dist  ponds_within_3000 area_category      price2sq  day_of_week  \\\n",
       "22869       30.0                  3        area_0  12000.000000            2   \n",
       "20507        NaN                  0        area_1   1983.333333            0   \n",
       "17496        NaN                  0        area_2   1442.411195            1   \n",
       "15061        NaN                  0        area_1   1985.815603            4   \n",
       "22309      450.0                  2        area_1   2355.555556            5   \n",
       "\n",
       "      month  year  floor_category  ratio_living_area  ratio_kitchen_area  \n",
       "22869     7  2018             last           0.560000            0.440000  \n",
       "20507     2  2018            other           0.583333            0.216667  \n",
       "17496     2  2019            other           0.572659            0.129171  \n",
       "15061     5  2018            other           0.574468            0.161348  \n",
       "22309     9  2017            other           0.344444            0.200000  \n",
       "\n",
       "[5 rows x 30 columns]"
      ]
     },
     "execution_count": 189,
     "metadata": {},
     "output_type": "execute_result"
    }
   ],
   "source": [
    "data_real_estate.query('ceiling_height == ceiling_height').sort_values('ceiling_height', ascending=False).head()"
   ]
  },
  {
   "cell_type": "markdown",
   "metadata": {},
   "source": [
    "22.6, 20.0, 14.0, 10.3 are mistakes too. But it is hard to determine the correct value. <br>\n",
    "Maybe it is better to divide by groups *total_area* and then determine approximate values."
   ]
  },
  {
   "cell_type": "code",
   "execution_count": 190,
   "metadata": {
    "scrolled": true
   },
   "outputs": [
    {
     "data": {
      "text/plain": [
       "<matplotlib.axes._subplots.AxesSubplot at 0x1b2df0173c8>"
      ]
     },
     "execution_count": 190,
     "metadata": {},
     "output_type": "execute_result"
    },
    {
     "data": {
      "image/png": "[encoded data removed]",
      "text/plain": [
       "<Figure size 432x288 with 1 Axes>"
      ]
     },
     "metadata": {
      "needs_background": "light"
     },
     "output_type": "display_data"
    }
   ],
   "source": [
    "# histogram\n",
    "data_real_estate['ceiling_height'].hist(bins=10,range=[2,3.5])"
   ]
  },
  {
   "cell_type": "markdown",
   "metadata": {},
   "source": [
    "#### Mini-results\n",
    "I corrected some apparently typos such as 27.5 -> 2.75. <br>\n",
    "I found extremely strange values such as 100m of ceiling_height, where total area is only 25.0 m2 and price overwhelmed 300000.0. <br>\n",
    "Also I found extremely small values."
   ]
  },
  {
   "cell_type": "markdown",
   "metadata": {},
   "source": [
    "<div class=\"alert alert-block alert-success\">\n",
    "Seems right\n",
    "</div>"
   ]
  },
  {
   "cell_type": "markdown",
   "metadata": {},
   "source": [
    "## Step 4.2\n",
    "* Examine the time it's taken to sell the apartment and plot a histogram. Calculate the mean and median and explain the average time it usually takes to complete a sale. When can a sale be considered to have happened rather quickly or taken an extra long time?"
   ]
  },
  {
   "cell_type": "code",
   "execution_count": 191,
   "metadata": {},
   "outputs": [
    {
     "name": "stdout",
     "output_type": "stream",
     "text": [
      "We have only 0.87 of all data with not empty days_listed\n"
     ]
    }
   ],
   "source": [
    "# we remember that zeros-values are None\n",
    "print('We have only {:.2f} of all data with not empty days_listed'.format(\n",
    "            len(data_real_estate[data_real_estate['days_listed'] != 0]) /\n",
    "            len(data_real_estate)))"
   ]
  },
  {
   "cell_type": "code",
   "execution_count": 192,
   "metadata": {},
   "outputs": [
    {
     "name": "stdout",
     "output_type": "stream",
     "text": [
      "Minimal days listed: 1\n",
      "Maximum days listed: 1580\n"
     ]
    }
   ],
   "source": [
    "print('Minimal days listed:',data_real_estate[data_real_estate['days_listed'] != 0]['days_listed'].min())\n",
    "print('Maximum days listed:',data_real_estate[data_real_estate['days_listed'] != 0]['days_listed'].max())\n",
    "# so, minimal day when apartment was in list is 1"
   ]
  },
  {
   "cell_type": "code",
   "execution_count": 193,
   "metadata": {},
   "outputs": [
    {
     "data": {
      "text/plain": [
       "<matplotlib.axes._subplots.AxesSubplot at 0x1b2dd664a88>"
      ]
     },
     "execution_count": 193,
     "metadata": {},
     "output_type": "execute_result"
    },
    {
     "data": {
      "image/png": "[encoded data removed]",
      "text/plain": [
       "<Figure size 432x288 with 1 Axes>"
      ]
     },
     "metadata": {
      "needs_background": "light"
     },
     "output_type": "display_data"
    }
   ],
   "source": [
    "# build a histogram from 1 to exclude None-values\n",
    "data_real_estate['days_listed'].hist(\n",
    "        range=[data_real_estate[data_real_estate['days_listed'] != 0]['days_listed'].min(),\n",
    "          data_real_estate[data_real_estate['days_listed'] != 0]['days_listed'].max()],\n",
    "        bins=30\n",
    "            )"
   ]
  },
  {
   "cell_type": "markdown",
   "metadata": {},
   "source": [
    "As I can see approximately 6500+4500+2500+1500=15000 apartments from 23700 ones have been listed (more likely have been sold) for 200 days. It is ~ 63%."
   ]
  },
  {
   "cell_type": "code",
   "execution_count": 194,
   "metadata": {},
   "outputs": [
    {
     "name": "stdout",
     "output_type": "stream",
     "text": [
      "Median days listed: 95.0\n",
      "Average days listed: 180.88863436982163\n"
     ]
    }
   ],
   "source": [
    "print('Median days listed:', data_real_estate.query('0 < days_listed')['days_listed'].median())\n",
    "print('Average days listed:', data_real_estate.query('0 < days_listed')['days_listed'].mean())"
   ]
  },
  {
   "cell_type": "markdown",
   "metadata": {},
   "source": [
    "Average days nearly twice higher than mean-value. That means that there is a long and/or hard tail in distribution of days_listed. <br>\n",
    "It is interesting to reveal why some apartments have been sold quicker than others. <br>\n",
    "I think that several factors could play the role: price and number of rooms. Let's check it"
   ]
  },
  {
   "cell_type": "code",
   "execution_count": 195,
   "metadata": {},
   "outputs": [
    {
     "name": "stdout",
     "output_type": "stream",
     "text": [
      "---quick sold apartments---\n",
      "Median last price for quick sold apartments: 87000.0\n",
      "Average last price for quick sold apartments: 111551.61250730568\n",
      "---slow sold apartments---\n",
      "Median last price for quick sold apartments: 95000.0\n",
      "Average last price for quick sold apartments: 139114.09529847835\n"
     ]
    }
   ],
   "source": [
    "# price should be the main factor. First let's check globally without dividing by groups.\n",
    "# select apartments sold quickly (50%) and find average and median values\n",
    "print('---quick sold apartments---')\n",
    "print('Median last price for quick sold apartments:',\n",
    "      data_real_estate.query('0 < days_listed <= 95')['last_price'].median())\n",
    "print('Average last price for quick sold apartments:',\n",
    "      data_real_estate.query('0 < days_listed <= 95')['last_price'].mean())\n",
    "\n",
    "# to select apartments sold slowly (50%)\n",
    "print('---slow sold apartments---')\n",
    "print('Median last price for quick sold apartments:',\n",
    "      data_real_estate.query('days_listed > 95')['last_price'].median())\n",
    "print('Average last price for quick sold apartments:',\n",
    "      data_real_estate.query('days_listed > 95')['last_price'].mean())"
   ]
  },
  {
   "cell_type": "markdown",
   "metadata": {},
   "source": [
    "So the difference is about 8%. This is a big number when we're dealing with apartments. <br>\n",
    "BUT! This contrast could be explained by the fact that bigger apartments could be sold slower. And of course they are more expensive. <br>\n",
    "Let's see how many bedrooms in these apartments."
   ]
  },
  {
   "cell_type": "code",
   "execution_count": 196,
   "metadata": {},
   "outputs": [
    {
     "data": {
      "text/plain": [
       "bedrooms\n",
       "1     4102\n",
       "2     3549\n",
       "3     2156\n",
       "4      334\n",
       "5       80\n",
       "6       24\n",
       "7       14\n",
       "8        1\n",
       "9        1\n",
       "10       2\n",
       "14       1\n",
       "15       1\n",
       "19       1\n",
       "Name: days_listed, dtype: int64"
      ]
     },
     "execution_count": 196,
     "metadata": {},
     "output_type": "execute_result"
    }
   ],
   "source": [
    "# group apartments by number of bedrooms\n",
    "data_real_estate.query('0 < days_listed <= 95 and bedrooms > 0').groupby('bedrooms')['days_listed'].count()"
   ]
  },
  {
   "cell_type": "code",
   "execution_count": 197,
   "metadata": {},
   "outputs": [],
   "source": [
    "def fun_rooms_category(row):\n",
    "    room = row['bedrooms']\n",
    "    if room == 1:\n",
    "        return '1-room'\n",
    "    elif room == 2:\n",
    "        return '2-room'\n",
    "    elif room == 3:\n",
    "        return '3-room'\n",
    "    elif room > 3:\n",
    "        return 'many-room'\n",
    "    else:\n",
    "        return None\n",
    "    \n",
    "data_real_estate['rooms_cat'] = data_real_estate.apply(fun_rooms_category, axis=1)"
   ]
  },
  {
   "cell_type": "code",
   "execution_count": 198,
   "metadata": {},
   "outputs": [
    {
     "data": {
      "text/plain": [
       "rooms_cat\n",
       "1-room       4102\n",
       "2-room       3549\n",
       "3-room       2156\n",
       "many-room     459\n",
       "Name: days_listed, dtype: int64"
      ]
     },
     "execution_count": 198,
     "metadata": {},
     "output_type": "execute_result"
    }
   ],
   "source": [
    "# so number of apartments in each groups\n",
    "data_real_estate.query('0 < days_listed <= 95 and bedrooms > 0').groupby('rooms_cat')['days_listed'].count()"
   ]
  },
  {
   "cell_type": "code",
   "execution_count": 199,
   "metadata": {},
   "outputs": [
    {
     "name": "stdout",
     "output_type": "stream",
     "text": [
      "Share of quick sold apartments: rooms_cat\n",
      "1-room       39.957140\n",
      "2-room       34.570427\n",
      "3-room       21.001364\n",
      "many-room     4.471070\n",
      "Name: days_listed, dtype: float64\n"
     ]
    }
   ],
   "source": [
    "print('Share of quick sold apartments:',\n",
    "     data_real_estate.query('0 < days_listed <= 95 and bedrooms > 0').groupby('rooms_cat')['days_listed'].count() / \n",
    "     data_real_estate.query('0 < days_listed <= 95 and bedrooms > 0').groupby('rooms_cat')['days_listed'].count().sum() * 100)"
   ]
  },
  {
   "cell_type": "code",
   "execution_count": 200,
   "metadata": {},
   "outputs": [
    {
     "name": "stdout",
     "output_type": "stream",
     "text": [
      "Share of slow sold apartments: rooms_cat\n",
      "1-room       32.676551\n",
      "2-room       32.813110\n",
      "3-room       25.994928\n",
      "many-room     8.515412\n",
      "Name: days_listed, dtype: float64\n"
     ]
    }
   ],
   "source": [
    "# the similar table for slow sold apartments\n",
    "print('Share of slow sold apartments:',\n",
    "     data_real_estate.query('days_listed > 95').groupby('rooms_cat')['days_listed'].count() / \n",
    "     data_real_estate.query('days_listed > 95').groupby('rooms_cat')['days_listed'].count().sum() * 100)"
   ]
  },
  {
   "cell_type": "code",
   "execution_count": 201,
   "metadata": {},
   "outputs": [
    {
     "name": "stdout",
     "output_type": "stream",
     "text": [
      "Price of quick sold apartments: rooms_cat\n",
      "1-room        71000.0\n",
      "2-room        93000.0\n",
      "3-room       119000.0\n",
      "many-room    182000.0\n",
      "Name: last_price, dtype: float64\n"
     ]
    }
   ],
   "source": [
    "# take look of detailed price table for quick sold apartments\n",
    "print('Price of quick sold apartments:',\n",
    "     data_real_estate.query('0 < days_listed <= 95 and bedrooms > 0').groupby('rooms_cat')['last_price'].median())"
   ]
  },
  {
   "cell_type": "code",
   "execution_count": 202,
   "metadata": {},
   "outputs": [
    {
     "name": "stdout",
     "output_type": "stream",
     "text": [
      "Price of quick sold apartments: rooms_cat\n",
      "1-room        71000.0\n",
      "2-room        94000.0\n",
      "3-room       124000.0\n",
      "many-room    224000.0\n",
      "Name: last_price, dtype: float64\n"
     ]
    }
   ],
   "source": [
    "# the same for slow sold apartments\n",
    "print('Price of quick sold apartments:',\n",
    "     data_real_estate.query('days_listed > 95 and bedrooms > 0').groupby('rooms_cat')['last_price'].median())"
   ]
  },
  {
   "cell_type": "markdown",
   "metadata": {},
   "source": [
    "As I expected, share of 1-room apartments in quick group higher than in slow group.\n",
    "But it was mistake to think that price of 1-room apartments is different. Median values are the same.\n",
    "At the same time, many-room apartment which are higher in price are sold slower."
   ]
  },
  {
   "cell_type": "code",
   "execution_count": 203,
   "metadata": {},
   "outputs": [
    {
     "name": "stdout",
     "output_type": "stream",
     "text": [
      "Price of quick sold apartments: rooms_cat\n",
      "1-room        72000.0\n",
      "2-room        92300.0\n",
      "3-room       119000.0\n",
      "many-room    168000.0\n",
      "Name: last_price, dtype: float64\n"
     ]
    }
   ],
   "source": [
    "# what about super fast apartments?\n",
    "# 2 weeks is really fast\n",
    "print('Price of quick sold apartments:',\n",
    "     data_real_estate.query('0 < days_listed <= 14 and bedrooms > 0').groupby('rooms_cat')['last_price'].median())"
   ]
  },
  {
   "cell_type": "code",
   "execution_count": 204,
   "metadata": {},
   "outputs": [
    {
     "name": "stdout",
     "output_type": "stream",
     "text": [
      "Price of quick sold apartments: rooms_cat\n",
      "1-room        71750.0\n",
      "2-room        94000.0\n",
      "3-room       124000.0\n",
      "many-room    226000.0\n",
      "Name: last_price, dtype: float64\n"
     ]
    }
   ],
   "source": [
    "# what about super slow apartments?\n",
    "# 180 days (~half a year) is really slow\n",
    "print('Price of quick sold apartments:',\n",
    "     data_real_estate.query('days_listed > 180').groupby('rooms_cat')['last_price'].median())"
   ]
  },
  {
   "cell_type": "markdown",
   "metadata": {},
   "source": [
    "So total price doesn't rule the game. Maybe it is better to look at price per meter? "
   ]
  },
  {
   "cell_type": "code",
   "execution_count": 205,
   "metadata": {},
   "outputs": [
    {
     "name": "stdout",
     "output_type": "stream",
     "text": [
      "Price of quick sold apartments: rooms_cat\n",
      "1-room       2043.894049\n",
      "2-room       1869.357082\n",
      "3-room       1758.620690\n",
      "many-room    1792.424242\n",
      "Name: price2sq, dtype: float64\n"
     ]
    }
   ],
   "source": [
    "# what about super fast apartments?\n",
    "# 2 weeks is really fast\n",
    "print('Price of quick sold apartments:',\n",
    "     data_real_estate.query('0 < days_listed <= 14 and bedrooms > 0').groupby('rooms_cat')['price2sq'].median())"
   ]
  },
  {
   "cell_type": "code",
   "execution_count": 206,
   "metadata": {},
   "outputs": [
    {
     "name": "stdout",
     "output_type": "stream",
     "text": [
      "Price of quick sold apartments: rooms_cat\n",
      "1-room       2000.000000\n",
      "2-room       1797.802198\n",
      "3-room       1758.620690\n",
      "many-room    1890.798787\n",
      "Name: price2sq, dtype: float64\n"
     ]
    }
   ],
   "source": [
    "# what about super fast apartments?\n",
    "# 180 days (~half a year) is really slow\n",
    "print('Price of quick sold apartments:',\n",
    "     data_real_estate.query('days_listed > 180').groupby('rooms_cat')['price2sq'].median())"
   ]
  },
  {
   "cell_type": "markdown",
   "metadata": {},
   "source": [
    "Surprisingly, price per meter doesn't influence on how fast apartment could be sold. <br>\n",
    "What if I get this result due to inflation? "
   ]
  },
  {
   "cell_type": "code",
   "execution_count": 207,
   "metadata": {},
   "outputs": [
    {
     "name": "stdout",
     "output_type": "stream",
     "text": [
      "Price of quick sold apartments: year\n",
      "2016    1933.216783\n",
      "2017    1862.909091\n",
      "2018    1928.571429\n",
      "2019    2094.017094\n",
      "Name: price2sq, dtype: float64\n"
     ]
    }
   ],
   "source": [
    "# what about super fast apartments? group by year\n",
    "# 2 weeks is really fast\n",
    "print('Price of quick sold apartments:',\n",
    "     data_real_estate.query('0 < days_listed <= 14 and bedrooms > 0').groupby('year')['price2sq'].median())"
   ]
  },
  {
   "cell_type": "code",
   "execution_count": 208,
   "metadata": {},
   "outputs": [
    {
     "name": "stdout",
     "output_type": "stream",
     "text": [
      "Price of quick sold apartments: year\n",
      "2014    2140.000000\n",
      "2015    1868.292683\n",
      "2016    1834.862385\n",
      "2017    1851.301769\n",
      "2018    1913.793103\n",
      "2019    2066.115702\n",
      "Name: price2sq, dtype: float64\n"
     ]
    }
   ],
   "source": [
    "# all apartments and all years\n",
    "print('Price of quick sold apartments:',\n",
    "     data_real_estate.groupby('year')['price2sq'].median())"
   ]
  },
  {
   "cell_type": "markdown",
   "metadata": {},
   "source": [
    "It is magic. Apartments that sell fast have even higher prices!\n",
    "Maybe they have a good location and people are really want to buy them."
   ]
  },
  {
   "cell_type": "markdown",
   "metadata": {},
   "source": [
    "#### Mini-results\n",
    "I found that price doesn't hardly influence on how fast apartments have been sold.\n",
    "I found that 1-room apartments have been sold faster. Many-room apartments sell slower"
   ]
  },
  {
   "cell_type": "markdown",
   "metadata": {},
   "source": [
    "## Step 4.3 Remove rare and outlying values and describe the patterns you've discovered\n",
    "Am I right that I am only now remove rare data? I don't understand why I should remove them. I don't see that this data has a problem like it was in gas stations. I do it only because it is in project. <br>\n",
    "The one reason is to study typical apartments."
   ]
  },
  {
   "cell_type": "code",
   "execution_count": 209,
   "metadata": {},
   "outputs": [
    {
     "data": {
      "text/plain": [
       "<matplotlib.axes._subplots.AxesSubplot at 0x1b2dd730308>"
      ]
     },
     "execution_count": 209,
     "metadata": {},
     "output_type": "execute_result"
    },
    {
     "data": {
      "image/png": "[encoded data removed]",
      "text/plain": [
       "<Figure size 432x288 with 1 Axes>"
      ]
     },
     "metadata": {
      "needs_background": "light"
     },
     "output_type": "display_data"
    }
   ],
   "source": [
    "# how many of apartments have been sold too quickly? is there anomalies?\n",
    "data_real_estate['days_listed'].hist(\n",
    "        range=[data_real_estate[data_real_estate['days_listed'] != 0]['days_listed'].min(), 30],\n",
    "        bins=30\n",
    "            )"
   ]
  },
  {
   "cell_type": "markdown",
   "metadata": {},
   "source": [
    "No, there is no any anomalies in the head. It is OK"
   ]
  },
  {
   "cell_type": "code",
   "execution_count": 210,
   "metadata": {},
   "outputs": [
    {
     "name": "stdout",
     "output_type": "stream",
     "text": [
      "Average days listed: 156.60884425503187\n",
      "Standard deviation days listed: 213.54687293841351\n"
     ]
    }
   ],
   "source": [
    "# I will cut tail of days listed\n",
    "# mean and standard deviation\n",
    "print('Average days listed:', data_real_estate['days_listed'].mean())\n",
    "print('Standard deviation days listed:', data_real_estate['days_listed'].std())\n",
    "mean_days_listed = data_real_estate['days_listed'].mean()\n",
    "std_days_listed = data_real_estate['days_listed'].std()\n",
    "\n",
    "# 3-sigma filter\n",
    "data_real_estate_filt_days = data_real_estate.query('days_listed < @mean_days_listed + 3*@std_days_listed')                        "
   ]
  },
  {
   "cell_type": "code",
   "execution_count": 211,
   "metadata": {},
   "outputs": [
    {
     "name": "stdout",
     "output_type": "stream",
     "text": [
      "Share of deleted rows (%): 2.523313219967087\n"
     ]
    }
   ],
   "source": [
    "print('Share of deleted rows (%):', (len(data_real_estate) - len(data_real_estate_filt_days)) / len(data_real_estate) * 100)"
   ]
  },
  {
   "cell_type": "code",
   "execution_count": 212,
   "metadata": {},
   "outputs": [
    {
     "data": {
      "image/png": "[encoded data removed]",
      "text/plain": [
       "<Figure size 432x288 with 1 Axes>"
      ]
     },
     "metadata": {
      "needs_background": "light"
     },
     "output_type": "display_data"
    }
   ],
   "source": [
    "# outlying values: bedrooms\n",
    "data_real_estate_filt_days['bedrooms'].hist()\n",
    "\n",
    "# filter bedrooms with 5+ beds\n",
    "data_real_estate_filt_beds = data_real_estate_filt_days.query('bedrooms <= 5')"
   ]
  },
  {
   "cell_type": "code",
   "execution_count": 213,
   "metadata": {},
   "outputs": [
    {
     "name": "stdout",
     "output_type": "stream",
     "text": [
      "Share of deleted rows (%): 0.8094887667200554\n"
     ]
    }
   ],
   "source": [
    "print('Share of deleted rows (%):',\n",
    "      (len(data_real_estate_filt_days) - len(data_real_estate_filt_beds)) / len(data_real_estate_filt_days) * 100)"
   ]
  },
  {
   "cell_type": "code",
   "execution_count": 214,
   "metadata": {},
   "outputs": [
    {
     "data": {
      "image/png": "[encoded data removed]",
      "text/plain": [
       "<Figure size 432x288 with 1 Axes>"
      ]
     },
     "metadata": {
      "needs_background": "light"
     },
     "output_type": "display_data"
    }
   ],
   "source": [
    "# outlying values: price per square\n",
    "data_real_estate_filt_beds['price2sq'].hist(bins=30)\n",
    "\n",
    "# filter bedrooms with 5000 per square\n",
    "data_real_estate_filt_price = data_real_estate_filt_beds.query('price2sq <= 5000')"
   ]
  },
  {
   "cell_type": "code",
   "execution_count": 215,
   "metadata": {},
   "outputs": [
    {
     "name": "stdout",
     "output_type": "stream",
     "text": [
      "Share of deleted rows (%): 1.0648511826830758\n"
     ]
    }
   ],
   "source": [
    "print('Share of deleted rows (%):',\n",
    "      (len(data_real_estate_filt_beds) - len(data_real_estate_filt_price)) / len(data_real_estate_filt_beds) * 100)"
   ]
  },
  {
   "cell_type": "code",
   "execution_count": 216,
   "metadata": {},
   "outputs": [],
   "source": [
    "data_real_estate_final = data_real_estate_filt_price"
   ]
  },
  {
   "cell_type": "markdown",
   "metadata": {},
   "source": [
    "#### Mini-results\n",
    "I have filtered outliers. Thus I can analyse typical data."
   ]
  },
  {
   "cell_type": "markdown",
   "metadata": {},
   "source": [
    "<div class=\"alert alert-block alert-success\">\n",
    "And you did it greatly :)\n",
    "</div>"
   ]
  },
  {
   "cell_type": "markdown",
   "metadata": {},
   "source": [
    "## Step 4.4 Which factors have had the biggest influence on an apartment’s price?\n",
    "Examine whether the value depends on the total square area, number of rooms, floor (top or bottom), or the proximity to the city center area. Also check whether the publication date has any effect on the price: specifically, day of the week, month, and year. Note that using scatter plot is preferable to hexbin. If you do decide to use hexbin, please use scatter plot too, and then compare the results. It is also recommended to check the hexbin documentation and carefully study its parameters."
   ]
  },
  {
   "cell_type": "markdown",
   "metadata": {},
   "source": [
    "I've analysed some factors: total area and number of rooms. I don't think that result have been changed."
   ]
  },
  {
   "cell_type": "code",
   "execution_count": 217,
   "metadata": {},
   "outputs": [
    {
     "data": {
      "text/plain": [
       "Text(0, 0.5, 'last_price')"
      ]
     },
     "execution_count": 217,
     "metadata": {},
     "output_type": "execute_result"
    },
    {
     "data": {
      "image/png": "[encoded data removed]",
      "text/plain": [
       "<Figure size 432x288 with 1 Axes>"
      ]
     },
     "metadata": {
      "needs_background": "light"
     },
     "output_type": "display_data"
    }
   ],
   "source": [
    "data_real_estate_final.plot(x='total_area', y='last_price', style='.', grid=True, legend=True, alpha=0.1)\n",
    "plt.xlabel('total_area')\n",
    "plt.ylabel('last_price')"
   ]
  },
  {
   "cell_type": "markdown",
   "metadata": {},
   "source": [
    "Greater total_area, than greater last_price. As we filtered data, we see it on plot"
   ]
  },
  {
   "cell_type": "code",
   "execution_count": 218,
   "metadata": {},
   "outputs": [
    {
     "data": {
      "text/plain": [
       "Text(0, 0.5, 'last_price')"
      ]
     },
     "execution_count": 218,
     "metadata": {},
     "output_type": "execute_result"
    },
    {
     "data": {
      "image/png": "[encoded data removed]",
      "text/plain": [
       "<Figure size 432x288 with 1 Axes>"
      ]
     },
     "metadata": {
      "needs_background": "light"
     },
     "output_type": "display_data"
    }
   ],
   "source": [
    "data_real_estate_final.plot(x='bedrooms', y='last_price', style='o', grid=True, legend=True, alpha=0.003)\n",
    "plt.xlabel('bedrooms')\n",
    "plt.ylabel('last_price')"
   ]
  },
  {
   "cell_type": "markdown",
   "metadata": {},
   "source": [
    "Results are the same as previous"
   ]
  },
  {
   "cell_type": "code",
   "execution_count": 219,
   "metadata": {},
   "outputs": [
    {
     "data": {
      "text/plain": [
       "<matplotlib.axes._subplots.AxesSubplot at 0x1b2e0a324c8>"
      ]
     },
     "execution_count": 219,
     "metadata": {},
     "output_type": "execute_result"
    },
    {
     "data": {
      "image/png": "[encoded data removed]",
      "text/plain": [
       "<Figure size 432x288 with 1 Axes>"
      ]
     },
     "metadata": {
      "needs_background": "light"
     },
     "output_type": "display_data"
    }
   ],
   "source": [
    "# floor\n",
    "data_real_estate_final['floor'].hist()"
   ]
  },
  {
   "cell_type": "code",
   "execution_count": 220,
   "metadata": {},
   "outputs": [
    {
     "data": {
      "text/plain": [
       "Text(0, 0.5, 'last_price')"
      ]
     },
     "execution_count": 220,
     "metadata": {},
     "output_type": "execute_result"
    },
    {
     "data": {
      "image/png": "[encoded data removed]",
      "text/plain": [
       "<Figure size 432x288 with 1 Axes>"
      ]
     },
     "metadata": {
      "needs_background": "light"
     },
     "output_type": "display_data"
    }
   ],
   "source": [
    "data_real_estate_final.plot(x='floor', y='last_price', style='o', grid=True, legend=True, alpha=0.01)\n",
    "plt.xlabel('floor')\n",
    "plt.ylabel('last_price')"
   ]
  },
  {
   "cell_type": "markdown",
   "metadata": {},
   "source": [
    "Number of Floor doesn't influence on price so strongly as total area."
   ]
  },
  {
   "cell_type": "code",
   "execution_count": 221,
   "metadata": {},
   "outputs": [
    {
     "data": {
      "text/plain": [
       "floor_category\n",
       "first    60150.0\n",
       "last     64000.0\n",
       "other    73004.0\n",
       "Name: last_price, dtype: float64"
      ]
     },
     "execution_count": 221,
     "metadata": {},
     "output_type": "execute_result"
    }
   ],
   "source": [
    "data_real_estate_final.query('bedrooms == 1').groupby('floor_category')['last_price'].median()"
   ]
  },
  {
   "cell_type": "code",
   "execution_count": 222,
   "metadata": {},
   "outputs": [
    {
     "data": {
      "text/plain": [
       "floor_category\n",
       "first    77000.0\n",
       "last     84345.0\n",
       "other    95000.0\n",
       "Name: last_price, dtype: float64"
      ]
     },
     "execution_count": 222,
     "metadata": {},
     "output_type": "execute_result"
    }
   ],
   "source": [
    "data_real_estate_final.groupby('floor_category')['last_price'].median()"
   ]
  },
  {
   "cell_type": "markdown",
   "metadata": {},
   "source": [
    "So, last and the first floors has lower last price than others."
   ]
  },
  {
   "cell_type": "code",
   "execution_count": 223,
   "metadata": {},
   "outputs": [
    {
     "data": {
      "text/plain": [
       "Text(0, 0.5, 'last_price')"
      ]
     },
     "execution_count": 223,
     "metadata": {},
     "output_type": "execute_result"
    },
    {
     "data": {
      "image/png": "[encoded data removed]",
      "text/plain": [
       "<Figure size 432x288 with 1 Axes>"
      ]
     },
     "metadata": {
      "needs_background": "light"
     },
     "output_type": "display_data"
    }
   ],
   "source": [
    "# city_center_dist\n",
    "data_real_estate_final.plot(x='city_center_dist', y='last_price', style='o', grid=True, legend=True, alpha=1)\n",
    "plt.xlabel('city_center_dist')\n",
    "plt.ylabel('last_price')"
   ]
  },
  {
   "cell_type": "code",
   "execution_count": 224,
   "metadata": {},
   "outputs": [
    {
     "name": "stdout",
     "output_type": "stream",
     "text": [
      "-0.31564509673272684\n"
     ]
    }
   ],
   "source": [
    "print(data_real_estate_final['city_center_dist'].corr(data_real_estate_final['last_price']))"
   ]
  },
  {
   "cell_type": "markdown",
   "metadata": {},
   "source": [
    "So, there are no any extremely high priced apartments far from the city center.\n",
    "And I see negative correlation between these parameters."
   ]
  },
  {
   "cell_type": "markdown",
   "metadata": {},
   "source": [
    "<div class=\"alert alert-block alert-success\">\n",
    "Which is understandable :)\n",
    "</div>"
   ]
  },
  {
   "cell_type": "code",
   "execution_count": 225,
   "metadata": {},
   "outputs": [
    {
     "data": {
      "text/plain": [
       "Text(0, 0.5, 'last_price')"
      ]
     },
     "execution_count": 225,
     "metadata": {},
     "output_type": "execute_result"
    },
    {
     "data": {
      "image/png": "[encoded data removed]",
      "text/plain": [
       "<Figure size 432x288 with 1 Axes>"
      ]
     },
     "metadata": {
      "needs_background": "light"
     },
     "output_type": "display_data"
    }
   ],
   "source": [
    "# day_of_week\n",
    "data_real_estate_final.plot(x='day_of_week', y='last_price', style='o', grid=True, legend=True, alpha=1)\n",
    "plt.xlabel('day_of_week')\n",
    "plt.ylabel('last_price')"
   ]
  },
  {
   "cell_type": "code",
   "execution_count": 226,
   "metadata": {},
   "outputs": [
    {
     "name": "stdout",
     "output_type": "stream",
     "text": [
      "-0.006523776955360214\n"
     ]
    }
   ],
   "source": [
    "print(data_real_estate_final['day_of_week'].corr(data_real_estate_final['last_price']))"
   ]
  },
  {
   "cell_type": "markdown",
   "metadata": {},
   "source": [
    "Day of week does not influence at all"
   ]
  },
  {
   "cell_type": "code",
   "execution_count": 227,
   "metadata": {},
   "outputs": [
    {
     "data": {
      "text/plain": [
       "Text(0, 0.5, 'last_price')"
      ]
     },
     "execution_count": 227,
     "metadata": {},
     "output_type": "execute_result"
    },
    {
     "data": {
      "image/png": "[encoded data removed]",
      "text/plain": [
       "<Figure size 432x288 with 1 Axes>"
      ]
     },
     "metadata": {
      "needs_background": "light"
     },
     "output_type": "display_data"
    }
   ],
   "source": [
    "data_real_estate_final.plot(x='month', y='last_price', style='o', grid=True, legend=True, alpha=1)\n",
    "plt.xlabel('month')\n",
    "plt.ylabel('last_price')"
   ]
  },
  {
   "cell_type": "code",
   "execution_count": 228,
   "metadata": {},
   "outputs": [
    {
     "name": "stdout",
     "output_type": "stream",
     "text": [
      "0.0006166404527388503\n"
     ]
    }
   ],
   "source": [
    "print(data_real_estate_final['month'].corr(data_real_estate_final['last_price']))"
   ]
  },
  {
   "cell_type": "code",
   "execution_count": 229,
   "metadata": {},
   "outputs": [
    {
     "data": {
      "text/plain": [
       "Text(0, 0.5, 'last_price')"
      ]
     },
     "execution_count": 229,
     "metadata": {},
     "output_type": "execute_result"
    },
    {
     "data": {
      "image/png": "[encoded data removed]",
      "text/plain": [
       "<Figure size 432x288 with 1 Axes>"
      ]
     },
     "metadata": {
      "needs_background": "light"
     },
     "output_type": "display_data"
    }
   ],
   "source": [
    "data_real_estate_final.plot(x='year', y='last_price', style='o', grid=True, legend=True, alpha=1)\n",
    "plt.xlabel('year')\n",
    "plt.ylabel('last_price')"
   ]
  },
  {
   "cell_type": "code",
   "execution_count": 230,
   "metadata": {},
   "outputs": [
    {
     "name": "stdout",
     "output_type": "stream",
     "text": [
      "-0.027468402714933848\n"
     ]
    }
   ],
   "source": [
    "print(data_real_estate_final['year'].corr(data_real_estate_final['last_price']))"
   ]
  },
  {
   "cell_type": "code",
   "execution_count": 231,
   "metadata": {},
   "outputs": [
    {
     "data": {
      "text/plain": [
       "year\n",
       "2014    159000.0\n",
       "2015    101340.0\n",
       "2016     88600.0\n",
       "2017     89800.0\n",
       "2018     90000.0\n",
       "2019    100000.0\n",
       "Name: last_price, dtype: float64"
      ]
     },
     "execution_count": 231,
     "metadata": {},
     "output_type": "execute_result"
    }
   ],
   "source": [
    "data_real_estate_final.groupby('year')['last_price'].median()"
   ]
  },
  {
   "cell_type": "markdown",
   "metadata": {},
   "source": [
    "After crysis people can't pay high price for apartment. Inflation every year after 2016 increase cost of apartment."
   ]
  },
  {
   "cell_type": "markdown",
   "metadata": {},
   "source": [
    "# Step 5. Overall conclusion\n",
    "Finally. I have gotten rid of mistakes and outliers. I have changed types of some columns. <br>\n",
    "Price of apartment mostly depends on: total area, is apartment on the first/last floor or not and distance from the center. I have created some pivot tables and plots to show it. From year to year price of apartments changed. <br>\n",
    "It could be interesting to perform a more detailed investigation for each year."
   ]
  }

 ],
 "metadata": {
  "kernelspec": {
   "display_name": "Python 3",
   "language": "python",
   "name": "python3"
  },
  "language_info": {
   "codemirror_mode": {
    "name": "ipython",
    "version": 3
   },
   "file_extension": ".py",
   "mimetype": "text/x-python",
   "name": "python",
   "nbconvert_exporter": "python",
   "pygments_lexer": "ipython3",
   "version": "3.7.6"
  }
 },
 "nbformat": 4,
 "nbformat_minor": 4
}
